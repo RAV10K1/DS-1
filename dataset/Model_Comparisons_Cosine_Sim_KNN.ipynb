{
 "cells": [
  {
   "cell_type": "markdown",
   "metadata": {},
   "source": [
    "# Comparison of Cosine Similarity & K-Nearest Neighbors Models"
   ]
  },
  {
   "cell_type": "markdown",
   "metadata": {},
   "source": [
    "## Cosine Similarity Model"
   ]
  },
  {
   "cell_type": "markdown",
   "metadata": {},
   "source": [
    "#### Alternatve model for medicine cabinet project using Cosine Similarity to predict cannabis strain recommendations based on user input."
   ]
  },
  {
   "cell_type": "code",
   "execution_count": 2,
   "metadata": {},
   "outputs": [],
   "source": [
    "# Imports\n",
    "\n",
    "import pandas as pd\n",
    "import numpy as np"
   ]
  },
  {
   "cell_type": "code",
   "execution_count": 3,
   "metadata": {},
   "outputs": [],
   "source": [
    "# Loading preprocessed data - Courtesy Curdt Million\n",
    "\n",
    "df = pd.read_csv(\"lemmatized_strains.csv\")"
   ]
  },
  {
   "cell_type": "code",
   "execution_count": 4,
   "metadata": {},
   "outputs": [
    {
     "data": {
      "text/html": [
       "<div>\n",
       "<style scoped>\n",
       "    .dataframe tbody tr th:only-of-type {\n",
       "        vertical-align: middle;\n",
       "    }\n",
       "\n",
       "    .dataframe tbody tr th {\n",
       "        vertical-align: top;\n",
       "    }\n",
       "\n",
       "    .dataframe thead th {\n",
       "        text-align: right;\n",
       "    }\n",
       "</style>\n",
       "<table border=\"1\" class=\"dataframe\">\n",
       "  <thead>\n",
       "    <tr style=\"text-align: right;\">\n",
       "      <th></th>\n",
       "      <th>Unnamed: 0</th>\n",
       "      <th>Strain</th>\n",
       "      <th>Type</th>\n",
       "      <th>Effects</th>\n",
       "      <th>Flavor</th>\n",
       "      <th>Description</th>\n",
       "      <th>name</th>\n",
       "      <th>ailment</th>\n",
       "      <th>all_text</th>\n",
       "      <th>lemmas</th>\n",
       "    </tr>\n",
       "  </thead>\n",
       "  <tbody>\n",
       "    <tr>\n",
       "      <th>0</th>\n",
       "      <td>0</td>\n",
       "      <td>100-Og</td>\n",
       "      <td>hybrid</td>\n",
       "      <td>Creative,Energetic,Tingly,Euphoric,Relaxed</td>\n",
       "      <td>Earthy,Sweet,Citrus</td>\n",
       "      <td>$100 OG is a 50/50 hybrid strain that packs a ...</td>\n",
       "      <td>NaN</td>\n",
       "      <td>NaN</td>\n",
       "      <td>100-Og hybrid Creative,Energetic,Tingly,Euphor...</td>\n",
       "      <td>100-Og hybrid Creative energetic Tingly Euphor...</td>\n",
       "    </tr>\n",
       "    <tr>\n",
       "      <th>1</th>\n",
       "      <td>1</td>\n",
       "      <td>98-White-Widow</td>\n",
       "      <td>hybrid</td>\n",
       "      <td>Relaxed,Aroused,Creative,Happy,Energetic</td>\n",
       "      <td>Flowery,Violet,Diesel</td>\n",
       "      <td>The ‘98 Aloha White Widow is an especially pot...</td>\n",
       "      <td>NaN</td>\n",
       "      <td>NaN</td>\n",
       "      <td>98-White-Widow hybrid Relaxed,Aroused,Creative...</td>\n",
       "      <td>98-white widow hybrid Relaxed arouse Creative ...</td>\n",
       "    </tr>\n",
       "    <tr>\n",
       "      <th>2</th>\n",
       "      <td>2</td>\n",
       "      <td>1024</td>\n",
       "      <td>sativa</td>\n",
       "      <td>Uplifted,Happy,Relaxed,Energetic,Creative</td>\n",
       "      <td>Spicy/Herbal,Sage,Woody</td>\n",
       "      <td>1024 is a sativa-dominant hybrid bred in Spain...</td>\n",
       "      <td>1024</td>\n",
       "      <td>Stress, Pain, Depression, Inflammation</td>\n",
       "      <td>1024 sativa Uplifted,Happy,Relaxed,Energetic,C...</td>\n",
       "      <td>1024 sativa Uplifted happy relaxed energetic C...</td>\n",
       "    </tr>\n",
       "    <tr>\n",
       "      <th>3</th>\n",
       "      <td>3</td>\n",
       "      <td>13-Dawgs</td>\n",
       "      <td>hybrid</td>\n",
       "      <td>Tingly,Creative,Hungry,Relaxed,Uplifted</td>\n",
       "      <td>Apricot,Citrus,Grapefruit</td>\n",
       "      <td>13 Dawgs is a hybrid of G13 and Chemdawg genet...</td>\n",
       "      <td>NaN</td>\n",
       "      <td>NaN</td>\n",
       "      <td>13-Dawgs hybrid Tingly,Creative,Hungry,Relaxed...</td>\n",
       "      <td>13-dawgs hybrid Tingly creative hungry Relaxed...</td>\n",
       "    </tr>\n",
       "    <tr>\n",
       "      <th>4</th>\n",
       "      <td>4</td>\n",
       "      <td>24K-Gold</td>\n",
       "      <td>hybrid</td>\n",
       "      <td>Happy,Relaxed,Euphoric,Uplifted,Talkative</td>\n",
       "      <td>Citrus,Earthy,Orange</td>\n",
       "      <td>Also known as Kosher Tangie, 24k Gold is a 60%...</td>\n",
       "      <td>NaN</td>\n",
       "      <td>NaN</td>\n",
       "      <td>24K-Gold hybrid Happy,Relaxed,Euphoric,Uplifte...</td>\n",
       "      <td>24k gold hybrid Happy Relaxed Euphoric Uplifte...</td>\n",
       "    </tr>\n",
       "  </tbody>\n",
       "</table>\n",
       "</div>"
      ],
      "text/plain": [
       "   Unnamed: 0          Strain    Type  \\\n",
       "0           0          100-Og  hybrid   \n",
       "1           1  98-White-Widow  hybrid   \n",
       "2           2            1024  sativa   \n",
       "3           3        13-Dawgs  hybrid   \n",
       "4           4        24K-Gold  hybrid   \n",
       "\n",
       "                                      Effects                     Flavor  \\\n",
       "0  Creative,Energetic,Tingly,Euphoric,Relaxed        Earthy,Sweet,Citrus   \n",
       "1    Relaxed,Aroused,Creative,Happy,Energetic      Flowery,Violet,Diesel   \n",
       "2   Uplifted,Happy,Relaxed,Energetic,Creative    Spicy/Herbal,Sage,Woody   \n",
       "3     Tingly,Creative,Hungry,Relaxed,Uplifted  Apricot,Citrus,Grapefruit   \n",
       "4   Happy,Relaxed,Euphoric,Uplifted,Talkative       Citrus,Earthy,Orange   \n",
       "\n",
       "                                         Description  name  \\\n",
       "0  $100 OG is a 50/50 hybrid strain that packs a ...   NaN   \n",
       "1  The ‘98 Aloha White Widow is an especially pot...   NaN   \n",
       "2  1024 is a sativa-dominant hybrid bred in Spain...  1024   \n",
       "3  13 Dawgs is a hybrid of G13 and Chemdawg genet...   NaN   \n",
       "4  Also known as Kosher Tangie, 24k Gold is a 60%...   NaN   \n",
       "\n",
       "                                  ailment  \\\n",
       "0                                     NaN   \n",
       "1                                     NaN   \n",
       "2  Stress, Pain, Depression, Inflammation   \n",
       "3                                     NaN   \n",
       "4                                     NaN   \n",
       "\n",
       "                                            all_text  \\\n",
       "0  100-Og hybrid Creative,Energetic,Tingly,Euphor...   \n",
       "1  98-White-Widow hybrid Relaxed,Aroused,Creative...   \n",
       "2  1024 sativa Uplifted,Happy,Relaxed,Energetic,C...   \n",
       "3  13-Dawgs hybrid Tingly,Creative,Hungry,Relaxed...   \n",
       "4  24K-Gold hybrid Happy,Relaxed,Euphoric,Uplifte...   \n",
       "\n",
       "                                              lemmas  \n",
       "0  100-Og hybrid Creative energetic Tingly Euphor...  \n",
       "1  98-white widow hybrid Relaxed arouse Creative ...  \n",
       "2  1024 sativa Uplifted happy relaxed energetic C...  \n",
       "3  13-dawgs hybrid Tingly creative hungry Relaxed...  \n",
       "4  24k gold hybrid Happy Relaxed Euphoric Uplifte...  "
      ]
     },
     "execution_count": 4,
     "metadata": {},
     "output_type": "execute_result"
    }
   ],
   "source": [
    "df.head()"
   ]
  },
  {
   "cell_type": "code",
   "execution_count": 5,
   "metadata": {},
   "outputs": [],
   "source": [
    "# Dropping unnamed columns & resetting index\n",
    "\n",
    "df = df.drop('Unnamed: 0', axis=1).reset_index()"
   ]
  },
  {
   "cell_type": "code",
   "execution_count": 6,
   "metadata": {},
   "outputs": [
    {
     "data": {
      "text/html": [
       "<div>\n",
       "<style scoped>\n",
       "    .dataframe tbody tr th:only-of-type {\n",
       "        vertical-align: middle;\n",
       "    }\n",
       "\n",
       "    .dataframe tbody tr th {\n",
       "        vertical-align: top;\n",
       "    }\n",
       "\n",
       "    .dataframe thead th {\n",
       "        text-align: right;\n",
       "    }\n",
       "</style>\n",
       "<table border=\"1\" class=\"dataframe\">\n",
       "  <thead>\n",
       "    <tr style=\"text-align: right;\">\n",
       "      <th></th>\n",
       "      <th>index</th>\n",
       "      <th>Strain</th>\n",
       "      <th>Type</th>\n",
       "      <th>Effects</th>\n",
       "      <th>Flavor</th>\n",
       "      <th>Description</th>\n",
       "      <th>name</th>\n",
       "      <th>ailment</th>\n",
       "      <th>all_text</th>\n",
       "      <th>lemmas</th>\n",
       "    </tr>\n",
       "  </thead>\n",
       "  <tbody>\n",
       "    <tr>\n",
       "      <th>0</th>\n",
       "      <td>0</td>\n",
       "      <td>100-Og</td>\n",
       "      <td>hybrid</td>\n",
       "      <td>Creative,Energetic,Tingly,Euphoric,Relaxed</td>\n",
       "      <td>Earthy,Sweet,Citrus</td>\n",
       "      <td>$100 OG is a 50/50 hybrid strain that packs a ...</td>\n",
       "      <td>NaN</td>\n",
       "      <td>NaN</td>\n",
       "      <td>100-Og hybrid Creative,Energetic,Tingly,Euphor...</td>\n",
       "      <td>100-Og hybrid Creative energetic Tingly Euphor...</td>\n",
       "    </tr>\n",
       "    <tr>\n",
       "      <th>1</th>\n",
       "      <td>1</td>\n",
       "      <td>98-White-Widow</td>\n",
       "      <td>hybrid</td>\n",
       "      <td>Relaxed,Aroused,Creative,Happy,Energetic</td>\n",
       "      <td>Flowery,Violet,Diesel</td>\n",
       "      <td>The ‘98 Aloha White Widow is an especially pot...</td>\n",
       "      <td>NaN</td>\n",
       "      <td>NaN</td>\n",
       "      <td>98-White-Widow hybrid Relaxed,Aroused,Creative...</td>\n",
       "      <td>98-white widow hybrid Relaxed arouse Creative ...</td>\n",
       "    </tr>\n",
       "    <tr>\n",
       "      <th>2</th>\n",
       "      <td>2</td>\n",
       "      <td>1024</td>\n",
       "      <td>sativa</td>\n",
       "      <td>Uplifted,Happy,Relaxed,Energetic,Creative</td>\n",
       "      <td>Spicy/Herbal,Sage,Woody</td>\n",
       "      <td>1024 is a sativa-dominant hybrid bred in Spain...</td>\n",
       "      <td>1024</td>\n",
       "      <td>Stress, Pain, Depression, Inflammation</td>\n",
       "      <td>1024 sativa Uplifted,Happy,Relaxed,Energetic,C...</td>\n",
       "      <td>1024 sativa Uplifted happy relaxed energetic C...</td>\n",
       "    </tr>\n",
       "    <tr>\n",
       "      <th>3</th>\n",
       "      <td>3</td>\n",
       "      <td>13-Dawgs</td>\n",
       "      <td>hybrid</td>\n",
       "      <td>Tingly,Creative,Hungry,Relaxed,Uplifted</td>\n",
       "      <td>Apricot,Citrus,Grapefruit</td>\n",
       "      <td>13 Dawgs is a hybrid of G13 and Chemdawg genet...</td>\n",
       "      <td>NaN</td>\n",
       "      <td>NaN</td>\n",
       "      <td>13-Dawgs hybrid Tingly,Creative,Hungry,Relaxed...</td>\n",
       "      <td>13-dawgs hybrid Tingly creative hungry Relaxed...</td>\n",
       "    </tr>\n",
       "    <tr>\n",
       "      <th>4</th>\n",
       "      <td>4</td>\n",
       "      <td>24K-Gold</td>\n",
       "      <td>hybrid</td>\n",
       "      <td>Happy,Relaxed,Euphoric,Uplifted,Talkative</td>\n",
       "      <td>Citrus,Earthy,Orange</td>\n",
       "      <td>Also known as Kosher Tangie, 24k Gold is a 60%...</td>\n",
       "      <td>NaN</td>\n",
       "      <td>NaN</td>\n",
       "      <td>24K-Gold hybrid Happy,Relaxed,Euphoric,Uplifte...</td>\n",
       "      <td>24k gold hybrid Happy Relaxed Euphoric Uplifte...</td>\n",
       "    </tr>\n",
       "  </tbody>\n",
       "</table>\n",
       "</div>"
      ],
      "text/plain": [
       "   index          Strain    Type                                     Effects  \\\n",
       "0      0          100-Og  hybrid  Creative,Energetic,Tingly,Euphoric,Relaxed   \n",
       "1      1  98-White-Widow  hybrid    Relaxed,Aroused,Creative,Happy,Energetic   \n",
       "2      2            1024  sativa   Uplifted,Happy,Relaxed,Energetic,Creative   \n",
       "3      3        13-Dawgs  hybrid     Tingly,Creative,Hungry,Relaxed,Uplifted   \n",
       "4      4        24K-Gold  hybrid   Happy,Relaxed,Euphoric,Uplifted,Talkative   \n",
       "\n",
       "                      Flavor  \\\n",
       "0        Earthy,Sweet,Citrus   \n",
       "1      Flowery,Violet,Diesel   \n",
       "2    Spicy/Herbal,Sage,Woody   \n",
       "3  Apricot,Citrus,Grapefruit   \n",
       "4       Citrus,Earthy,Orange   \n",
       "\n",
       "                                         Description  name  \\\n",
       "0  $100 OG is a 50/50 hybrid strain that packs a ...   NaN   \n",
       "1  The ‘98 Aloha White Widow is an especially pot...   NaN   \n",
       "2  1024 is a sativa-dominant hybrid bred in Spain...  1024   \n",
       "3  13 Dawgs is a hybrid of G13 and Chemdawg genet...   NaN   \n",
       "4  Also known as Kosher Tangie, 24k Gold is a 60%...   NaN   \n",
       "\n",
       "                                  ailment  \\\n",
       "0                                     NaN   \n",
       "1                                     NaN   \n",
       "2  Stress, Pain, Depression, Inflammation   \n",
       "3                                     NaN   \n",
       "4                                     NaN   \n",
       "\n",
       "                                            all_text  \\\n",
       "0  100-Og hybrid Creative,Energetic,Tingly,Euphor...   \n",
       "1  98-White-Widow hybrid Relaxed,Aroused,Creative...   \n",
       "2  1024 sativa Uplifted,Happy,Relaxed,Energetic,C...   \n",
       "3  13-Dawgs hybrid Tingly,Creative,Hungry,Relaxed...   \n",
       "4  24K-Gold hybrid Happy,Relaxed,Euphoric,Uplifte...   \n",
       "\n",
       "                                              lemmas  \n",
       "0  100-Og hybrid Creative energetic Tingly Euphor...  \n",
       "1  98-white widow hybrid Relaxed arouse Creative ...  \n",
       "2  1024 sativa Uplifted happy relaxed energetic C...  \n",
       "3  13-dawgs hybrid Tingly creative hungry Relaxed...  \n",
       "4  24k gold hybrid Happy Relaxed Euphoric Uplifte...  "
      ]
     },
     "execution_count": 6,
     "metadata": {},
     "output_type": "execute_result"
    }
   ],
   "source": [
    "df.head()"
   ]
  },
  {
   "cell_type": "markdown",
   "metadata": {},
   "source": [
    "### Vectorizing Words with TF/IDF Vectorizer to Create Document Term Matrix (DTM)"
   ]
  },
  {
   "cell_type": "code",
   "execution_count": 7,
   "metadata": {},
   "outputs": [],
   "source": [
    "# Instantiating TfidfVectorizer\n",
    "\n",
    "from sklearn.feature_extraction.text import TfidfVectorizer\n",
    "\n",
    "vect = TfidfVectorizer(stop_words=\"english\", min_df=0.025, max_df=0.98, ngram_range=(1,3))"
   ]
  },
  {
   "cell_type": "code",
   "execution_count": 8,
   "metadata": {},
   "outputs": [],
   "source": [
    "# Creating DTM\n",
    "\n",
    "dtm = vect.fit_transform(df['lemmas'])"
   ]
  },
  {
   "cell_type": "code",
   "execution_count": 9,
   "metadata": {},
   "outputs": [],
   "source": [
    "# Loading DTM to DataFrame\n",
    "\n",
    "dtm = pd.DataFrame(dtm.todense(), columns=vect.get_feature_names())"
   ]
  },
  {
   "cell_type": "code",
   "execution_count": 10,
   "metadata": {},
   "outputs": [
    {
     "data": {
      "text/html": [
       "<div>\n",
       "<style scoped>\n",
       "    .dataframe tbody tr th:only-of-type {\n",
       "        vertical-align: middle;\n",
       "    }\n",
       "\n",
       "    .dataframe tbody tr th {\n",
       "        vertical-align: top;\n",
       "    }\n",
       "\n",
       "    .dataframe thead th {\n",
       "        text-align: right;\n",
       "    }\n",
       "</style>\n",
       "<table border=\"1\" class=\"dataframe\">\n",
       "  <thead>\n",
       "    <tr style=\"text-align: right;\">\n",
       "      <th></th>\n",
       "      <th>10</th>\n",
       "      <th>10 week</th>\n",
       "      <th>1st</th>\n",
       "      <th>20</th>\n",
       "      <th>50</th>\n",
       "      <th>60</th>\n",
       "      <th>70</th>\n",
       "      <th>80</th>\n",
       "      <th>active</th>\n",
       "      <th>activity</th>\n",
       "      <th>...</th>\n",
       "      <th>variety</th>\n",
       "      <th>way</th>\n",
       "      <th>week</th>\n",
       "      <th>week flower</th>\n",
       "      <th>white</th>\n",
       "      <th>white widow</th>\n",
       "      <th>widow</th>\n",
       "      <th>win</th>\n",
       "      <th>woody</th>\n",
       "      <th>yield</th>\n",
       "    </tr>\n",
       "  </thead>\n",
       "  <tbody>\n",
       "    <tr>\n",
       "      <th>0</th>\n",
       "      <td>0.0</td>\n",
       "      <td>0.0</td>\n",
       "      <td>0.00000</td>\n",
       "      <td>0.0</td>\n",
       "      <td>0.400753</td>\n",
       "      <td>0.000000</td>\n",
       "      <td>0.0</td>\n",
       "      <td>0.0</td>\n",
       "      <td>0.0</td>\n",
       "      <td>0.0</td>\n",
       "      <td>...</td>\n",
       "      <td>0.0</td>\n",
       "      <td>0.0</td>\n",
       "      <td>0.0</td>\n",
       "      <td>0.0</td>\n",
       "      <td>0.000000</td>\n",
       "      <td>0.000000</td>\n",
       "      <td>0.00000</td>\n",
       "      <td>0.0</td>\n",
       "      <td>0.000000</td>\n",
       "      <td>0.0</td>\n",
       "    </tr>\n",
       "    <tr>\n",
       "      <th>1</th>\n",
       "      <td>0.0</td>\n",
       "      <td>0.0</td>\n",
       "      <td>0.11529</td>\n",
       "      <td>0.0</td>\n",
       "      <td>0.000000</td>\n",
       "      <td>0.000000</td>\n",
       "      <td>0.0</td>\n",
       "      <td>0.0</td>\n",
       "      <td>0.0</td>\n",
       "      <td>0.0</td>\n",
       "      <td>...</td>\n",
       "      <td>0.0</td>\n",
       "      <td>0.0</td>\n",
       "      <td>0.0</td>\n",
       "      <td>0.0</td>\n",
       "      <td>0.414792</td>\n",
       "      <td>0.530753</td>\n",
       "      <td>0.52785</td>\n",
       "      <td>0.0</td>\n",
       "      <td>0.000000</td>\n",
       "      <td>0.0</td>\n",
       "    </tr>\n",
       "    <tr>\n",
       "      <th>2</th>\n",
       "      <td>0.0</td>\n",
       "      <td>0.0</td>\n",
       "      <td>0.00000</td>\n",
       "      <td>0.0</td>\n",
       "      <td>0.000000</td>\n",
       "      <td>0.000000</td>\n",
       "      <td>0.0</td>\n",
       "      <td>0.0</td>\n",
       "      <td>0.0</td>\n",
       "      <td>0.0</td>\n",
       "      <td>...</td>\n",
       "      <td>0.0</td>\n",
       "      <td>0.0</td>\n",
       "      <td>0.0</td>\n",
       "      <td>0.0</td>\n",
       "      <td>0.000000</td>\n",
       "      <td>0.000000</td>\n",
       "      <td>0.00000</td>\n",
       "      <td>0.0</td>\n",
       "      <td>0.139941</td>\n",
       "      <td>0.0</td>\n",
       "    </tr>\n",
       "    <tr>\n",
       "      <th>3</th>\n",
       "      <td>0.0</td>\n",
       "      <td>0.0</td>\n",
       "      <td>0.00000</td>\n",
       "      <td>0.0</td>\n",
       "      <td>0.000000</td>\n",
       "      <td>0.000000</td>\n",
       "      <td>0.0</td>\n",
       "      <td>0.0</td>\n",
       "      <td>0.0</td>\n",
       "      <td>0.0</td>\n",
       "      <td>...</td>\n",
       "      <td>0.0</td>\n",
       "      <td>0.0</td>\n",
       "      <td>0.0</td>\n",
       "      <td>0.0</td>\n",
       "      <td>0.000000</td>\n",
       "      <td>0.000000</td>\n",
       "      <td>0.00000</td>\n",
       "      <td>0.0</td>\n",
       "      <td>0.152713</td>\n",
       "      <td>0.0</td>\n",
       "    </tr>\n",
       "    <tr>\n",
       "      <th>4</th>\n",
       "      <td>0.0</td>\n",
       "      <td>0.0</td>\n",
       "      <td>0.00000</td>\n",
       "      <td>0.0</td>\n",
       "      <td>0.000000</td>\n",
       "      <td>0.172229</td>\n",
       "      <td>0.0</td>\n",
       "      <td>0.0</td>\n",
       "      <td>0.0</td>\n",
       "      <td>0.0</td>\n",
       "      <td>...</td>\n",
       "      <td>0.0</td>\n",
       "      <td>0.0</td>\n",
       "      <td>0.0</td>\n",
       "      <td>0.0</td>\n",
       "      <td>0.000000</td>\n",
       "      <td>0.000000</td>\n",
       "      <td>0.00000</td>\n",
       "      <td>0.0</td>\n",
       "      <td>0.000000</td>\n",
       "      <td>0.0</td>\n",
       "    </tr>\n",
       "  </tbody>\n",
       "</table>\n",
       "<p>5 rows × 470 columns</p>\n",
       "</div>"
      ],
      "text/plain": [
       "    10  10 week      1st   20        50        60   70   80  active  activity  \\\n",
       "0  0.0      0.0  0.00000  0.0  0.400753  0.000000  0.0  0.0     0.0       0.0   \n",
       "1  0.0      0.0  0.11529  0.0  0.000000  0.000000  0.0  0.0     0.0       0.0   \n",
       "2  0.0      0.0  0.00000  0.0  0.000000  0.000000  0.0  0.0     0.0       0.0   \n",
       "3  0.0      0.0  0.00000  0.0  0.000000  0.000000  0.0  0.0     0.0       0.0   \n",
       "4  0.0      0.0  0.00000  0.0  0.000000  0.172229  0.0  0.0     0.0       0.0   \n",
       "\n",
       "   ...  variety  way  week  week flower     white  white widow    widow  win  \\\n",
       "0  ...      0.0  0.0   0.0          0.0  0.000000     0.000000  0.00000  0.0   \n",
       "1  ...      0.0  0.0   0.0          0.0  0.414792     0.530753  0.52785  0.0   \n",
       "2  ...      0.0  0.0   0.0          0.0  0.000000     0.000000  0.00000  0.0   \n",
       "3  ...      0.0  0.0   0.0          0.0  0.000000     0.000000  0.00000  0.0   \n",
       "4  ...      0.0  0.0   0.0          0.0  0.000000     0.000000  0.00000  0.0   \n",
       "\n",
       "      woody  yield  \n",
       "0  0.000000    0.0  \n",
       "1  0.000000    0.0  \n",
       "2  0.139941    0.0  \n",
       "3  0.152713    0.0  \n",
       "4  0.000000    0.0  \n",
       "\n",
       "[5 rows x 470 columns]"
      ]
     },
     "execution_count": 10,
     "metadata": {},
     "output_type": "execute_result"
    }
   ],
   "source": [
    "dtm.head()"
   ]
  },
  {
   "cell_type": "code",
   "execution_count": 11,
   "metadata": {},
   "outputs": [
    {
     "data": {
      "text/plain": [
       "(2280, 470)"
      ]
     },
     "execution_count": 11,
     "metadata": {},
     "output_type": "execute_result"
    }
   ],
   "source": [
    "dtm.shape"
   ]
  },
  {
   "cell_type": "markdown",
   "metadata": {},
   "source": [
    "### Applying Cosine Similarity"
   ]
  },
  {
   "cell_type": "code",
   "execution_count": 12,
   "metadata": {},
   "outputs": [],
   "source": [
    "# Calculating distance of vectors\n",
    "\n",
    "from sklearn.metrics.pairwise import cosine_similarity\n",
    "\n",
    "dist_matrix  = cosine_similarity(dtm)"
   ]
  },
  {
   "cell_type": "code",
   "execution_count": 13,
   "metadata": {},
   "outputs": [
    {
     "data": {
      "text/plain": [
       "(2280, 2280)"
      ]
     },
     "execution_count": 13,
     "metadata": {},
     "output_type": "execute_result"
    }
   ],
   "source": [
    "dist_matrix.shape"
   ]
  },
  {
   "cell_type": "code",
   "execution_count": 14,
   "metadata": {},
   "outputs": [
    {
     "data": {
      "text/plain": [
       "array([[1.        , 0.05019954, 0.09446667, ..., 0.04614303, 0.20400223,\n",
       "        0.03976338],\n",
       "       [0.05019954, 1.        , 0.03919548, ..., 0.05693017, 0.03774439,\n",
       "        0.01905132],\n",
       "       [0.09446667, 0.03919548, 1.        , ..., 0.13120335, 0.03704773,\n",
       "        0.10142609],\n",
       "       ...,\n",
       "       [0.04614303, 0.05693017, 0.13120335, ..., 1.        , 0.18964009,\n",
       "        0.04080311],\n",
       "       [0.20400223, 0.03774439, 0.03704773, ..., 0.18964009, 1.        ,\n",
       "        0.15828765],\n",
       "       [0.03976338, 0.01905132, 0.10142609, ..., 0.04080311, 0.15828765,\n",
       "        1.        ]])"
      ]
     },
     "execution_count": 14,
     "metadata": {},
     "output_type": "execute_result"
    }
   ],
   "source": [
    "dist_matrix"
   ]
  },
  {
   "cell_type": "code",
   "execution_count": 15,
   "metadata": {},
   "outputs": [],
   "source": [
    "# Incorporating distance matrix into dataframe\n",
    "\n",
    "df_cos = pd.DataFrame(dist_matrix)"
   ]
  },
  {
   "cell_type": "code",
   "execution_count": 16,
   "metadata": {},
   "outputs": [
    {
     "data": {
      "text/html": [
       "<div>\n",
       "<style scoped>\n",
       "    .dataframe tbody tr th:only-of-type {\n",
       "        vertical-align: middle;\n",
       "    }\n",
       "\n",
       "    .dataframe tbody tr th {\n",
       "        vertical-align: top;\n",
       "    }\n",
       "\n",
       "    .dataframe thead th {\n",
       "        text-align: right;\n",
       "    }\n",
       "</style>\n",
       "<table border=\"1\" class=\"dataframe\">\n",
       "  <thead>\n",
       "    <tr style=\"text-align: right;\">\n",
       "      <th></th>\n",
       "      <th>0</th>\n",
       "      <th>1</th>\n",
       "      <th>2</th>\n",
       "      <th>3</th>\n",
       "      <th>4</th>\n",
       "      <th>5</th>\n",
       "      <th>6</th>\n",
       "      <th>7</th>\n",
       "      <th>8</th>\n",
       "      <th>9</th>\n",
       "      <th>...</th>\n",
       "      <th>2270</th>\n",
       "      <th>2271</th>\n",
       "      <th>2272</th>\n",
       "      <th>2273</th>\n",
       "      <th>2274</th>\n",
       "      <th>2275</th>\n",
       "      <th>2276</th>\n",
       "      <th>2277</th>\n",
       "      <th>2278</th>\n",
       "      <th>2279</th>\n",
       "    </tr>\n",
       "  </thead>\n",
       "  <tbody>\n",
       "    <tr>\n",
       "      <th>0</th>\n",
       "      <td>1.000000</td>\n",
       "      <td>0.050200</td>\n",
       "      <td>0.094467</td>\n",
       "      <td>0.138441</td>\n",
       "      <td>0.167852</td>\n",
       "      <td>0.279632</td>\n",
       "      <td>0.160991</td>\n",
       "      <td>0.144329</td>\n",
       "      <td>0.039780</td>\n",
       "      <td>0.151746</td>\n",
       "      <td>...</td>\n",
       "      <td>0.143444</td>\n",
       "      <td>0.087499</td>\n",
       "      <td>0.138503</td>\n",
       "      <td>0.106033</td>\n",
       "      <td>0.098898</td>\n",
       "      <td>0.309409</td>\n",
       "      <td>0.082647</td>\n",
       "      <td>0.046143</td>\n",
       "      <td>0.204002</td>\n",
       "      <td>0.039763</td>\n",
       "    </tr>\n",
       "    <tr>\n",
       "      <th>1</th>\n",
       "      <td>0.050200</td>\n",
       "      <td>1.000000</td>\n",
       "      <td>0.039195</td>\n",
       "      <td>0.062325</td>\n",
       "      <td>0.057198</td>\n",
       "      <td>0.025107</td>\n",
       "      <td>0.062530</td>\n",
       "      <td>0.035826</td>\n",
       "      <td>0.037248</td>\n",
       "      <td>0.020530</td>\n",
       "      <td>...</td>\n",
       "      <td>0.123628</td>\n",
       "      <td>0.047277</td>\n",
       "      <td>0.012108</td>\n",
       "      <td>0.055818</td>\n",
       "      <td>0.049122</td>\n",
       "      <td>0.019146</td>\n",
       "      <td>0.045944</td>\n",
       "      <td>0.056930</td>\n",
       "      <td>0.037744</td>\n",
       "      <td>0.019051</td>\n",
       "    </tr>\n",
       "    <tr>\n",
       "      <th>2</th>\n",
       "      <td>0.094467</td>\n",
       "      <td>0.039195</td>\n",
       "      <td>1.000000</td>\n",
       "      <td>0.228735</td>\n",
       "      <td>0.127038</td>\n",
       "      <td>0.019263</td>\n",
       "      <td>0.206242</td>\n",
       "      <td>0.080875</td>\n",
       "      <td>0.182667</td>\n",
       "      <td>0.084721</td>\n",
       "      <td>...</td>\n",
       "      <td>0.143060</td>\n",
       "      <td>0.145247</td>\n",
       "      <td>0.187344</td>\n",
       "      <td>0.149791</td>\n",
       "      <td>0.264191</td>\n",
       "      <td>0.099647</td>\n",
       "      <td>0.154952</td>\n",
       "      <td>0.131203</td>\n",
       "      <td>0.037048</td>\n",
       "      <td>0.101426</td>\n",
       "    </tr>\n",
       "    <tr>\n",
       "      <th>3</th>\n",
       "      <td>0.138441</td>\n",
       "      <td>0.062325</td>\n",
       "      <td>0.228735</td>\n",
       "      <td>1.000000</td>\n",
       "      <td>0.142100</td>\n",
       "      <td>0.102130</td>\n",
       "      <td>0.099491</td>\n",
       "      <td>0.198146</td>\n",
       "      <td>0.176917</td>\n",
       "      <td>0.124149</td>\n",
       "      <td>...</td>\n",
       "      <td>0.201189</td>\n",
       "      <td>0.151043</td>\n",
       "      <td>0.137494</td>\n",
       "      <td>0.144705</td>\n",
       "      <td>0.208115</td>\n",
       "      <td>0.085285</td>\n",
       "      <td>0.188352</td>\n",
       "      <td>0.078144</td>\n",
       "      <td>0.105342</td>\n",
       "      <td>0.237819</td>\n",
       "    </tr>\n",
       "    <tr>\n",
       "      <th>4</th>\n",
       "      <td>0.167852</td>\n",
       "      <td>0.057198</td>\n",
       "      <td>0.127038</td>\n",
       "      <td>0.142100</td>\n",
       "      <td>1.000000</td>\n",
       "      <td>0.107282</td>\n",
       "      <td>0.111054</td>\n",
       "      <td>0.105749</td>\n",
       "      <td>0.096732</td>\n",
       "      <td>0.143729</td>\n",
       "      <td>...</td>\n",
       "      <td>0.144879</td>\n",
       "      <td>0.102967</td>\n",
       "      <td>0.125487</td>\n",
       "      <td>0.122542</td>\n",
       "      <td>0.133906</td>\n",
       "      <td>0.077173</td>\n",
       "      <td>0.081454</td>\n",
       "      <td>0.191653</td>\n",
       "      <td>0.069589</td>\n",
       "      <td>0.077302</td>\n",
       "    </tr>\n",
       "  </tbody>\n",
       "</table>\n",
       "<p>5 rows × 2280 columns</p>\n",
       "</div>"
      ],
      "text/plain": [
       "       0         1         2         3         4         5         6     \\\n",
       "0  1.000000  0.050200  0.094467  0.138441  0.167852  0.279632  0.160991   \n",
       "1  0.050200  1.000000  0.039195  0.062325  0.057198  0.025107  0.062530   \n",
       "2  0.094467  0.039195  1.000000  0.228735  0.127038  0.019263  0.206242   \n",
       "3  0.138441  0.062325  0.228735  1.000000  0.142100  0.102130  0.099491   \n",
       "4  0.167852  0.057198  0.127038  0.142100  1.000000  0.107282  0.111054   \n",
       "\n",
       "       7         8         9     ...      2270      2271      2272      2273  \\\n",
       "0  0.144329  0.039780  0.151746  ...  0.143444  0.087499  0.138503  0.106033   \n",
       "1  0.035826  0.037248  0.020530  ...  0.123628  0.047277  0.012108  0.055818   \n",
       "2  0.080875  0.182667  0.084721  ...  0.143060  0.145247  0.187344  0.149791   \n",
       "3  0.198146  0.176917  0.124149  ...  0.201189  0.151043  0.137494  0.144705   \n",
       "4  0.105749  0.096732  0.143729  ...  0.144879  0.102967  0.125487  0.122542   \n",
       "\n",
       "       2274      2275      2276      2277      2278      2279  \n",
       "0  0.098898  0.309409  0.082647  0.046143  0.204002  0.039763  \n",
       "1  0.049122  0.019146  0.045944  0.056930  0.037744  0.019051  \n",
       "2  0.264191  0.099647  0.154952  0.131203  0.037048  0.101426  \n",
       "3  0.208115  0.085285  0.188352  0.078144  0.105342  0.237819  \n",
       "4  0.133906  0.077173  0.081454  0.191653  0.069589  0.077302  \n",
       "\n",
       "[5 rows x 2280 columns]"
      ]
     },
     "execution_count": 16,
     "metadata": {},
     "output_type": "execute_result"
    }
   ],
   "source": [
    "df_cos.head()"
   ]
  },
  {
   "cell_type": "code",
   "execution_count": 17,
   "metadata": {},
   "outputs": [
    {
     "data": {
      "text/plain": [
       "(2280, 2280)"
      ]
     },
     "execution_count": 17,
     "metadata": {},
     "output_type": "execute_result"
    }
   ],
   "source": [
    "df_cos.shape"
   ]
  },
  {
   "cell_type": "code",
   "execution_count": 18,
   "metadata": {},
   "outputs": [
    {
     "data": {
      "text/plain": [
       "'100-Og hybrid Creative energetic Tingly Euphoric Relaxed Earthy Sweet Citrus $ 100 og 50/50 hybrid strain pack strong punch supposedly refer strength high price start show Hollywood plant $ 100 og tend produce large dark green bud stem user report strong body effect indica pain relief alert cerebral feeling thank sativa  '"
      ]
     },
     "execution_count": 18,
     "metadata": {},
     "output_type": "execute_result"
    }
   ],
   "source": [
    "df.lemmas[0]"
   ]
  },
  {
   "cell_type": "code",
   "execution_count": 19,
   "metadata": {},
   "outputs": [],
   "source": [
    "# Top 5 similar strains to strain index_no. 0 (100-OG)\n",
    "\n",
    "OG100_top_5 = df_cos[df_cos[0] < 1][0].sort_values(ascending=False)[:5]"
   ]
  },
  {
   "cell_type": "code",
   "execution_count": 20,
   "metadata": {},
   "outputs": [
    {
     "data": {
      "text/plain": [
       "670     0.456571\n",
       "2137    0.433465\n",
       "1837    0.423226\n",
       "1384    0.420398\n",
       "1697    0.417113\n",
       "Name: 0, dtype: float64"
      ]
     },
     "execution_count": 20,
     "metadata": {},
     "output_type": "execute_result"
    }
   ],
   "source": [
    "OG100_top_5"
   ]
  },
  {
   "cell_type": "code",
   "execution_count": 21,
   "metadata": {},
   "outputs": [
    {
     "data": {
      "text/plain": [
       "pandas.core.series.Series"
      ]
     },
     "execution_count": 21,
     "metadata": {},
     "output_type": "execute_result"
    }
   ],
   "source": [
    "type(OG100_top_5)"
   ]
  },
  {
   "cell_type": "code",
   "execution_count": 22,
   "metadata": {},
   "outputs": [],
   "source": [
    "# Converting to dict\n",
    "\n",
    "OG100_top_5 = dict(OG100_top_5)"
   ]
  },
  {
   "cell_type": "code",
   "execution_count": 23,
   "metadata": {},
   "outputs": [
    {
     "data": {
      "text/plain": [
       "dict"
      ]
     },
     "execution_count": 23,
     "metadata": {},
     "output_type": "execute_result"
    }
   ],
   "source": [
    "type(OG100_top_5)"
   ]
  },
  {
   "cell_type": "code",
   "execution_count": 24,
   "metadata": {},
   "outputs": [
    {
     "data": {
      "text/plain": [
       "{670: 0.4565706222702947,\n",
       " 2137: 0.4334652217771763,\n",
       " 1837: 0.42322601521876946,\n",
       " 1384: 0.4203984288723379,\n",
       " 1697: 0.4171133953625684}"
      ]
     },
     "execution_count": 24,
     "metadata": {},
     "output_type": "execute_result"
    }
   ],
   "source": [
    "OG100_top_5"
   ]
  },
  {
   "cell_type": "code",
   "execution_count": 25,
   "metadata": {},
   "outputs": [
    {
     "data": {
      "text/plain": [
       "{670: 0.4565706222702947,\n",
       " 2137: 0.4334652217771763,\n",
       " 1837: 0.42322601521876946,\n",
       " 1384: 0.4203984288723379,\n",
       " 1697: 0.4171133953625684}"
      ]
     },
     "execution_count": 25,
     "metadata": {},
     "output_type": "execute_result"
    }
   ],
   "source": [
    "OG100_top_5"
   ]
  },
  {
   "cell_type": "code",
   "execution_count": 26,
   "metadata": {},
   "outputs": [
    {
     "data": {
      "text/plain": [
       "dict_keys([670, 2137, 1837, 1384, 1697])"
      ]
     },
     "execution_count": 26,
     "metadata": {},
     "output_type": "execute_result"
    }
   ],
   "source": [
    "OG100_top_5.keys()"
   ]
  },
  {
   "cell_type": "code",
   "execution_count": 27,
   "metadata": {},
   "outputs": [
    {
     "data": {
      "text/html": [
       "<div>\n",
       "<style scoped>\n",
       "    .dataframe tbody tr th:only-of-type {\n",
       "        vertical-align: middle;\n",
       "    }\n",
       "\n",
       "    .dataframe tbody tr th {\n",
       "        vertical-align: top;\n",
       "    }\n",
       "\n",
       "    .dataframe thead th {\n",
       "        text-align: right;\n",
       "    }\n",
       "</style>\n",
       "<table border=\"1\" class=\"dataframe\">\n",
       "  <thead>\n",
       "    <tr style=\"text-align: right;\">\n",
       "      <th></th>\n",
       "      <th>Strain</th>\n",
       "      <th>Type</th>\n",
       "      <th>Effects</th>\n",
       "      <th>Flavor</th>\n",
       "      <th>Description</th>\n",
       "    </tr>\n",
       "  </thead>\n",
       "  <tbody>\n",
       "    <tr>\n",
       "      <th>670</th>\n",
       "      <td>Donna-Og</td>\n",
       "      <td>hybrid</td>\n",
       "      <td>Creative,Euphoric,Relaxed,Happy,Hungry</td>\n",
       "      <td>Citrus,Pungent,Sweet</td>\n",
       "      <td>Donna OG is a 50/50 hybrid cross between two O...</td>\n",
       "    </tr>\n",
       "    <tr>\n",
       "      <th>2137</th>\n",
       "      <td>Tuna-Og</td>\n",
       "      <td>hybrid</td>\n",
       "      <td>None</td>\n",
       "      <td>None</td>\n",
       "      <td>Tuna OG (or OG Tuna Kush) is a 50/50 hybrid cr...</td>\n",
       "    </tr>\n",
       "    <tr>\n",
       "      <th>1837</th>\n",
       "      <td>Skywalker-Og</td>\n",
       "      <td>hybrid</td>\n",
       "      <td>Relaxed,Euphoric,Happy,Uplifted,Sleepy</td>\n",
       "      <td>Earthy,Pungent,Sweet</td>\n",
       "      <td>Skywalker OG is a potent indica-dominant hybri...</td>\n",
       "    </tr>\n",
       "    <tr>\n",
       "      <th>1384</th>\n",
       "      <td>Monster-Og</td>\n",
       "      <td>hybrid</td>\n",
       "      <td>Hungry,Relaxed,Happy,Tingly,Sleepy</td>\n",
       "      <td>Woody,Spicy/Herbal,Earthy</td>\n",
       "      <td>Monster OG from The Green Element is a hybrid ...</td>\n",
       "    </tr>\n",
       "    <tr>\n",
       "      <th>1697</th>\n",
       "      <td>Rainbow</td>\n",
       "      <td>hybrid</td>\n",
       "      <td>Euphoric,Relaxed,Happy,Talkative,Uplifted</td>\n",
       "      <td>Sweet,Citrus,Orange</td>\n",
       "      <td>Rainbow is a 50/50 indica/sativa hybrid from S...</td>\n",
       "    </tr>\n",
       "  </tbody>\n",
       "</table>\n",
       "</div>"
      ],
      "text/plain": [
       "            Strain    Type                                    Effects  \\\n",
       "670       Donna-Og  hybrid     Creative,Euphoric,Relaxed,Happy,Hungry   \n",
       "2137       Tuna-Og  hybrid                                       None   \n",
       "1837  Skywalker-Og  hybrid     Relaxed,Euphoric,Happy,Uplifted,Sleepy   \n",
       "1384    Monster-Og  hybrid         Hungry,Relaxed,Happy,Tingly,Sleepy   \n",
       "1697       Rainbow  hybrid  Euphoric,Relaxed,Happy,Talkative,Uplifted   \n",
       "\n",
       "                         Flavor  \\\n",
       "670        Citrus,Pungent,Sweet   \n",
       "2137                       None   \n",
       "1837       Earthy,Pungent,Sweet   \n",
       "1384  Woody,Spicy/Herbal,Earthy   \n",
       "1697        Sweet,Citrus,Orange   \n",
       "\n",
       "                                            Description  \n",
       "670   Donna OG is a 50/50 hybrid cross between two O...  \n",
       "2137  Tuna OG (or OG Tuna Kush) is a 50/50 hybrid cr...  \n",
       "1837  Skywalker OG is a potent indica-dominant hybri...  \n",
       "1384  Monster OG from The Green Element is a hybrid ...  \n",
       "1697  Rainbow is a 50/50 indica/sativa hybrid from S...  "
      ]
     },
     "execution_count": 27,
     "metadata": {},
     "output_type": "execute_result"
    }
   ],
   "source": [
    "# Top 5 indexes in DataFrame\n",
    "\n",
    "df.iloc[[i for i in OG100_top_5], 1:6]"
   ]
  },
  {
   "cell_type": "markdown",
   "metadata": {},
   "source": [
    "### Creating Function to Calculate Closest Related Strains to Each Corresponding Strain"
   ]
  },
  {
   "cell_type": "code",
   "execution_count": 28,
   "metadata": {},
   "outputs": [],
   "source": [
    "# Creating Lookup Table DataFrame\n",
    "\n",
    "df_names = df[['index', 'Strain']]"
   ]
  },
  {
   "cell_type": "code",
   "execution_count": 29,
   "metadata": {},
   "outputs": [
    {
     "data": {
      "text/html": [
       "<div>\n",
       "<style scoped>\n",
       "    .dataframe tbody tr th:only-of-type {\n",
       "        vertical-align: middle;\n",
       "    }\n",
       "\n",
       "    .dataframe tbody tr th {\n",
       "        vertical-align: top;\n",
       "    }\n",
       "\n",
       "    .dataframe thead th {\n",
       "        text-align: right;\n",
       "    }\n",
       "</style>\n",
       "<table border=\"1\" class=\"dataframe\">\n",
       "  <thead>\n",
       "    <tr style=\"text-align: right;\">\n",
       "      <th></th>\n",
       "      <th>index</th>\n",
       "      <th>Strain</th>\n",
       "    </tr>\n",
       "  </thead>\n",
       "  <tbody>\n",
       "    <tr>\n",
       "      <th>0</th>\n",
       "      <td>0</td>\n",
       "      <td>100-Og</td>\n",
       "    </tr>\n",
       "    <tr>\n",
       "      <th>1</th>\n",
       "      <td>1</td>\n",
       "      <td>98-White-Widow</td>\n",
       "    </tr>\n",
       "    <tr>\n",
       "      <th>2</th>\n",
       "      <td>2</td>\n",
       "      <td>1024</td>\n",
       "    </tr>\n",
       "    <tr>\n",
       "      <th>3</th>\n",
       "      <td>3</td>\n",
       "      <td>13-Dawgs</td>\n",
       "    </tr>\n",
       "    <tr>\n",
       "      <th>4</th>\n",
       "      <td>4</td>\n",
       "      <td>24K-Gold</td>\n",
       "    </tr>\n",
       "  </tbody>\n",
       "</table>\n",
       "</div>"
      ],
      "text/plain": [
       "   index          Strain\n",
       "0      0          100-Og\n",
       "1      1  98-White-Widow\n",
       "2      2            1024\n",
       "3      3        13-Dawgs\n",
       "4      4        24K-Gold"
      ]
     },
     "execution_count": 29,
     "metadata": {},
     "output_type": "execute_result"
    }
   ],
   "source": [
    "df_names.head()"
   ]
  },
  {
   "cell_type": "code",
   "execution_count": 30,
   "metadata": {},
   "outputs": [],
   "source": [
    "def cos_sim(x):\n",
    "    \n",
    "    \"\"\"Returns top 5 similar strain indexes corresponding to input index\"\"\"\n",
    "     \n",
    "    top_5 = dict(df_cos[df_cos[x] < 1][x].sort_values(ascending=False)[:5])\n",
    "    \n",
    "    return top_5.keys()\n"
   ]
  },
  {
   "cell_type": "markdown",
   "metadata": {},
   "source": [
    "### Creating New Column in DataFrame for Strains with High Cosine Similarities"
   ]
  },
  {
   "cell_type": "code",
   "execution_count": 31,
   "metadata": {},
   "outputs": [],
   "source": [
    "df_strains = df.copy()"
   ]
  },
  {
   "cell_type": "code",
   "execution_count": 32,
   "metadata": {},
   "outputs": [
    {
     "data": {
      "text/html": [
       "<div>\n",
       "<style scoped>\n",
       "    .dataframe tbody tr th:only-of-type {\n",
       "        vertical-align: middle;\n",
       "    }\n",
       "\n",
       "    .dataframe tbody tr th {\n",
       "        vertical-align: top;\n",
       "    }\n",
       "\n",
       "    .dataframe thead th {\n",
       "        text-align: right;\n",
       "    }\n",
       "</style>\n",
       "<table border=\"1\" class=\"dataframe\">\n",
       "  <thead>\n",
       "    <tr style=\"text-align: right;\">\n",
       "      <th></th>\n",
       "      <th>index</th>\n",
       "      <th>Strain</th>\n",
       "      <th>Type</th>\n",
       "      <th>Effects</th>\n",
       "      <th>Flavor</th>\n",
       "      <th>Description</th>\n",
       "      <th>name</th>\n",
       "      <th>ailment</th>\n",
       "      <th>all_text</th>\n",
       "      <th>lemmas</th>\n",
       "    </tr>\n",
       "  </thead>\n",
       "  <tbody>\n",
       "    <tr>\n",
       "      <th>0</th>\n",
       "      <td>0</td>\n",
       "      <td>100-Og</td>\n",
       "      <td>hybrid</td>\n",
       "      <td>Creative,Energetic,Tingly,Euphoric,Relaxed</td>\n",
       "      <td>Earthy,Sweet,Citrus</td>\n",
       "      <td>$100 OG is a 50/50 hybrid strain that packs a ...</td>\n",
       "      <td>NaN</td>\n",
       "      <td>NaN</td>\n",
       "      <td>100-Og hybrid Creative,Energetic,Tingly,Euphor...</td>\n",
       "      <td>100-Og hybrid Creative energetic Tingly Euphor...</td>\n",
       "    </tr>\n",
       "    <tr>\n",
       "      <th>1</th>\n",
       "      <td>1</td>\n",
       "      <td>98-White-Widow</td>\n",
       "      <td>hybrid</td>\n",
       "      <td>Relaxed,Aroused,Creative,Happy,Energetic</td>\n",
       "      <td>Flowery,Violet,Diesel</td>\n",
       "      <td>The ‘98 Aloha White Widow is an especially pot...</td>\n",
       "      <td>NaN</td>\n",
       "      <td>NaN</td>\n",
       "      <td>98-White-Widow hybrid Relaxed,Aroused,Creative...</td>\n",
       "      <td>98-white widow hybrid Relaxed arouse Creative ...</td>\n",
       "    </tr>\n",
       "    <tr>\n",
       "      <th>2</th>\n",
       "      <td>2</td>\n",
       "      <td>1024</td>\n",
       "      <td>sativa</td>\n",
       "      <td>Uplifted,Happy,Relaxed,Energetic,Creative</td>\n",
       "      <td>Spicy/Herbal,Sage,Woody</td>\n",
       "      <td>1024 is a sativa-dominant hybrid bred in Spain...</td>\n",
       "      <td>1024</td>\n",
       "      <td>Stress, Pain, Depression, Inflammation</td>\n",
       "      <td>1024 sativa Uplifted,Happy,Relaxed,Energetic,C...</td>\n",
       "      <td>1024 sativa Uplifted happy relaxed energetic C...</td>\n",
       "    </tr>\n",
       "    <tr>\n",
       "      <th>3</th>\n",
       "      <td>3</td>\n",
       "      <td>13-Dawgs</td>\n",
       "      <td>hybrid</td>\n",
       "      <td>Tingly,Creative,Hungry,Relaxed,Uplifted</td>\n",
       "      <td>Apricot,Citrus,Grapefruit</td>\n",
       "      <td>13 Dawgs is a hybrid of G13 and Chemdawg genet...</td>\n",
       "      <td>NaN</td>\n",
       "      <td>NaN</td>\n",
       "      <td>13-Dawgs hybrid Tingly,Creative,Hungry,Relaxed...</td>\n",
       "      <td>13-dawgs hybrid Tingly creative hungry Relaxed...</td>\n",
       "    </tr>\n",
       "    <tr>\n",
       "      <th>4</th>\n",
       "      <td>4</td>\n",
       "      <td>24K-Gold</td>\n",
       "      <td>hybrid</td>\n",
       "      <td>Happy,Relaxed,Euphoric,Uplifted,Talkative</td>\n",
       "      <td>Citrus,Earthy,Orange</td>\n",
       "      <td>Also known as Kosher Tangie, 24k Gold is a 60%...</td>\n",
       "      <td>NaN</td>\n",
       "      <td>NaN</td>\n",
       "      <td>24K-Gold hybrid Happy,Relaxed,Euphoric,Uplifte...</td>\n",
       "      <td>24k gold hybrid Happy Relaxed Euphoric Uplifte...</td>\n",
       "    </tr>\n",
       "  </tbody>\n",
       "</table>\n",
       "</div>"
      ],
      "text/plain": [
       "   index          Strain    Type                                     Effects  \\\n",
       "0      0          100-Og  hybrid  Creative,Energetic,Tingly,Euphoric,Relaxed   \n",
       "1      1  98-White-Widow  hybrid    Relaxed,Aroused,Creative,Happy,Energetic   \n",
       "2      2            1024  sativa   Uplifted,Happy,Relaxed,Energetic,Creative   \n",
       "3      3        13-Dawgs  hybrid     Tingly,Creative,Hungry,Relaxed,Uplifted   \n",
       "4      4        24K-Gold  hybrid   Happy,Relaxed,Euphoric,Uplifted,Talkative   \n",
       "\n",
       "                      Flavor  \\\n",
       "0        Earthy,Sweet,Citrus   \n",
       "1      Flowery,Violet,Diesel   \n",
       "2    Spicy/Herbal,Sage,Woody   \n",
       "3  Apricot,Citrus,Grapefruit   \n",
       "4       Citrus,Earthy,Orange   \n",
       "\n",
       "                                         Description  name  \\\n",
       "0  $100 OG is a 50/50 hybrid strain that packs a ...   NaN   \n",
       "1  The ‘98 Aloha White Widow is an especially pot...   NaN   \n",
       "2  1024 is a sativa-dominant hybrid bred in Spain...  1024   \n",
       "3  13 Dawgs is a hybrid of G13 and Chemdawg genet...   NaN   \n",
       "4  Also known as Kosher Tangie, 24k Gold is a 60%...   NaN   \n",
       "\n",
       "                                  ailment  \\\n",
       "0                                     NaN   \n",
       "1                                     NaN   \n",
       "2  Stress, Pain, Depression, Inflammation   \n",
       "3                                     NaN   \n",
       "4                                     NaN   \n",
       "\n",
       "                                            all_text  \\\n",
       "0  100-Og hybrid Creative,Energetic,Tingly,Euphor...   \n",
       "1  98-White-Widow hybrid Relaxed,Aroused,Creative...   \n",
       "2  1024 sativa Uplifted,Happy,Relaxed,Energetic,C...   \n",
       "3  13-Dawgs hybrid Tingly,Creative,Hungry,Relaxed...   \n",
       "4  24K-Gold hybrid Happy,Relaxed,Euphoric,Uplifte...   \n",
       "\n",
       "                                              lemmas  \n",
       "0  100-Og hybrid Creative energetic Tingly Euphor...  \n",
       "1  98-white widow hybrid Relaxed arouse Creative ...  \n",
       "2  1024 sativa Uplifted happy relaxed energetic C...  \n",
       "3  13-dawgs hybrid Tingly creative hungry Relaxed...  \n",
       "4  24k gold hybrid Happy Relaxed Euphoric Uplifte...  "
      ]
     },
     "execution_count": 32,
     "metadata": {},
     "output_type": "execute_result"
    }
   ],
   "source": [
    "df_strains.head()"
   ]
  },
  {
   "cell_type": "code",
   "execution_count": 33,
   "metadata": {},
   "outputs": [
    {
     "data": {
      "text/plain": [
       "Index(['index', 'Strain', 'Type', 'Effects', 'Flavor', 'Description', 'name',\n",
       "       'ailment', 'all_text', 'lemmas'],\n",
       "      dtype='object')"
      ]
     },
     "execution_count": 33,
     "metadata": {},
     "output_type": "execute_result"
    }
   ],
   "source": [
    "df_strains.columns"
   ]
  },
  {
   "cell_type": "code",
   "execution_count": 34,
   "metadata": {},
   "outputs": [],
   "source": [
    "# Applying Cosine Similarity Function to Data Frame\n",
    "\n",
    "df_strains['Cos Sim Strains'] = [cos_sim(i) for i in df['index']]"
   ]
  },
  {
   "cell_type": "code",
   "execution_count": 35,
   "metadata": {},
   "outputs": [
    {
     "data": {
      "text/html": [
       "<div>\n",
       "<style scoped>\n",
       "    .dataframe tbody tr th:only-of-type {\n",
       "        vertical-align: middle;\n",
       "    }\n",
       "\n",
       "    .dataframe tbody tr th {\n",
       "        vertical-align: top;\n",
       "    }\n",
       "\n",
       "    .dataframe thead th {\n",
       "        text-align: right;\n",
       "    }\n",
       "</style>\n",
       "<table border=\"1\" class=\"dataframe\">\n",
       "  <thead>\n",
       "    <tr style=\"text-align: right;\">\n",
       "      <th></th>\n",
       "      <th>index</th>\n",
       "      <th>Strain</th>\n",
       "      <th>Type</th>\n",
       "      <th>Effects</th>\n",
       "      <th>Flavor</th>\n",
       "      <th>Description</th>\n",
       "      <th>name</th>\n",
       "      <th>ailment</th>\n",
       "      <th>all_text</th>\n",
       "      <th>lemmas</th>\n",
       "      <th>Cos Sim Strains</th>\n",
       "    </tr>\n",
       "  </thead>\n",
       "  <tbody>\n",
       "    <tr>\n",
       "      <th>897</th>\n",
       "      <td>897</td>\n",
       "      <td>Grandpas-Breath</td>\n",
       "      <td>indica</td>\n",
       "      <td>Relaxed,Euphoric,Sleepy,Uplifted,Creative</td>\n",
       "      <td>Earthy,Flowery,Lavender</td>\n",
       "      <td>Grandpa’s Breath is a semi-sedative indica-dom...</td>\n",
       "      <td>NaN</td>\n",
       "      <td>NaN</td>\n",
       "      <td>Grandpas-Breath indica Relaxed,Euphoric,Sleepy...</td>\n",
       "      <td>Grandpas breath indica Relaxed euphoric Sleepy...</td>\n",
       "      <td>(641, 145, 934, 1698, 18)</td>\n",
       "    </tr>\n",
       "    <tr>\n",
       "      <th>394</th>\n",
       "      <td>394</td>\n",
       "      <td>Buddha-Tahoe</td>\n",
       "      <td>indica</td>\n",
       "      <td>Relaxed,Happy,Euphoric,Uplifted,Hungry</td>\n",
       "      <td>Earthy,Pungent,Sweet</td>\n",
       "      <td>Buddha Tahoe is what you get when Big Buddha S...</td>\n",
       "      <td>NaN</td>\n",
       "      <td>NaN</td>\n",
       "      <td>Buddha-Tahoe indica Relaxed,Happy,Euphoric,Upl...</td>\n",
       "      <td>Buddha Tahoe indica Relaxed happy Euphoric Upl...</td>\n",
       "      <td>(1333, 2243, 573, 1525, 822)</td>\n",
       "    </tr>\n",
       "    <tr>\n",
       "      <th>512</th>\n",
       "      <td>512</td>\n",
       "      <td>China-Yunnan</td>\n",
       "      <td>indica</td>\n",
       "      <td>Uplifted,Happy,Relaxed,Euphoric,Sleepy</td>\n",
       "      <td>Sweet,Earthy,Cheese</td>\n",
       "      <td>China Yunnan is where deep indica relaxation m...</td>\n",
       "      <td>NaN</td>\n",
       "      <td>NaN</td>\n",
       "      <td>China-Yunnan indica Uplifted,Happy,Relaxed,Eup...</td>\n",
       "      <td>China Yunnan indica Uplifted happy Relaxed eup...</td>\n",
       "      <td>(1613, 585, 1137, 882, 141)</td>\n",
       "    </tr>\n",
       "    <tr>\n",
       "      <th>1125</th>\n",
       "      <td>1125</td>\n",
       "      <td>K2</td>\n",
       "      <td>hybrid</td>\n",
       "      <td>Relaxed,Happy,Giggly,Hungry,Sleepy</td>\n",
       "      <td>Earthy,Citrus,Sweet</td>\n",
       "      <td>Named for Earth's second highest mountain peak...</td>\n",
       "      <td>NaN</td>\n",
       "      <td>NaN</td>\n",
       "      <td>K2 hybrid Relaxed,Happy,Giggly,Hungry,Sleepy E...</td>\n",
       "      <td>K2 hybrid Relaxed happy giggly hungry Sleepy E...</td>\n",
       "      <td>(2228, 2240, 2222, 804, 715)</td>\n",
       "    </tr>\n",
       "    <tr>\n",
       "      <th>339</th>\n",
       "      <td>339</td>\n",
       "      <td>Blueberry-Og</td>\n",
       "      <td>hybrid</td>\n",
       "      <td>Happy,Hungry,Giggly,Euphoric,Talkative</td>\n",
       "      <td>Blueberry,Berry,Flowery</td>\n",
       "      <td>Blueberry OG is a DJ Short Blueberry phenotype...</td>\n",
       "      <td>NaN</td>\n",
       "      <td>NaN</td>\n",
       "      <td>Blueberry-Og hybrid Happy,Hungry,Giggly,Euphor...</td>\n",
       "      <td>Blueberry Og hybrid Happy hungry giggly euphor...</td>\n",
       "      <td>(326, 334, 348, 342, 187)</td>\n",
       "    </tr>\n",
       "  </tbody>\n",
       "</table>\n",
       "</div>"
      ],
      "text/plain": [
       "      index           Strain    Type  \\\n",
       "897     897  Grandpas-Breath  indica   \n",
       "394     394     Buddha-Tahoe  indica   \n",
       "512     512     China-Yunnan  indica   \n",
       "1125   1125               K2  hybrid   \n",
       "339     339     Blueberry-Og  hybrid   \n",
       "\n",
       "                                        Effects                   Flavor  \\\n",
       "897   Relaxed,Euphoric,Sleepy,Uplifted,Creative  Earthy,Flowery,Lavender   \n",
       "394      Relaxed,Happy,Euphoric,Uplifted,Hungry     Earthy,Pungent,Sweet   \n",
       "512      Uplifted,Happy,Relaxed,Euphoric,Sleepy      Sweet,Earthy,Cheese   \n",
       "1125         Relaxed,Happy,Giggly,Hungry,Sleepy      Earthy,Citrus,Sweet   \n",
       "339      Happy,Hungry,Giggly,Euphoric,Talkative  Blueberry,Berry,Flowery   \n",
       "\n",
       "                                            Description name ailment  \\\n",
       "897   Grandpa’s Breath is a semi-sedative indica-dom...  NaN     NaN   \n",
       "394   Buddha Tahoe is what you get when Big Buddha S...  NaN     NaN   \n",
       "512   China Yunnan is where deep indica relaxation m...  NaN     NaN   \n",
       "1125  Named for Earth's second highest mountain peak...  NaN     NaN   \n",
       "339   Blueberry OG is a DJ Short Blueberry phenotype...  NaN     NaN   \n",
       "\n",
       "                                               all_text  \\\n",
       "897   Grandpas-Breath indica Relaxed,Euphoric,Sleepy...   \n",
       "394   Buddha-Tahoe indica Relaxed,Happy,Euphoric,Upl...   \n",
       "512   China-Yunnan indica Uplifted,Happy,Relaxed,Eup...   \n",
       "1125  K2 hybrid Relaxed,Happy,Giggly,Hungry,Sleepy E...   \n",
       "339   Blueberry-Og hybrid Happy,Hungry,Giggly,Euphor...   \n",
       "\n",
       "                                                 lemmas  \\\n",
       "897   Grandpas breath indica Relaxed euphoric Sleepy...   \n",
       "394   Buddha Tahoe indica Relaxed happy Euphoric Upl...   \n",
       "512   China Yunnan indica Uplifted happy Relaxed eup...   \n",
       "1125  K2 hybrid Relaxed happy giggly hungry Sleepy E...   \n",
       "339   Blueberry Og hybrid Happy hungry giggly euphor...   \n",
       "\n",
       "                   Cos Sim Strains  \n",
       "897      (641, 145, 934, 1698, 18)  \n",
       "394   (1333, 2243, 573, 1525, 822)  \n",
       "512    (1613, 585, 1137, 882, 141)  \n",
       "1125  (2228, 2240, 2222, 804, 715)  \n",
       "339      (326, 334, 348, 342, 187)  "
      ]
     },
     "execution_count": 35,
     "metadata": {},
     "output_type": "execute_result"
    }
   ],
   "source": [
    "df_strains.sample(5)"
   ]
  },
  {
   "cell_type": "code",
   "execution_count": 36,
   "metadata": {},
   "outputs": [
    {
     "data": {
      "text/html": [
       "<div>\n",
       "<style scoped>\n",
       "    .dataframe tbody tr th:only-of-type {\n",
       "        vertical-align: middle;\n",
       "    }\n",
       "\n",
       "    .dataframe tbody tr th {\n",
       "        vertical-align: top;\n",
       "    }\n",
       "\n",
       "    .dataframe thead th {\n",
       "        text-align: right;\n",
       "    }\n",
       "</style>\n",
       "<table border=\"1\" class=\"dataframe\">\n",
       "  <thead>\n",
       "    <tr style=\"text-align: right;\">\n",
       "      <th></th>\n",
       "      <th>index</th>\n",
       "      <th>Strain</th>\n",
       "      <th>Type</th>\n",
       "      <th>Effects</th>\n",
       "      <th>Flavor</th>\n",
       "      <th>Description</th>\n",
       "      <th>name</th>\n",
       "      <th>ailment</th>\n",
       "      <th>all_text</th>\n",
       "      <th>lemmas</th>\n",
       "      <th>Cos Sim Strains</th>\n",
       "    </tr>\n",
       "  </thead>\n",
       "  <tbody>\n",
       "    <tr>\n",
       "      <th>0</th>\n",
       "      <td>0</td>\n",
       "      <td>100-Og</td>\n",
       "      <td>hybrid</td>\n",
       "      <td>Creative,Energetic,Tingly,Euphoric,Relaxed</td>\n",
       "      <td>Earthy,Sweet,Citrus</td>\n",
       "      <td>$100 OG is a 50/50 hybrid strain that packs a ...</td>\n",
       "      <td>NaN</td>\n",
       "      <td>NaN</td>\n",
       "      <td>100-Og hybrid Creative,Energetic,Tingly,Euphor...</td>\n",
       "      <td>100-Og hybrid Creative energetic Tingly Euphor...</td>\n",
       "      <td>(670, 2137, 1837, 1384, 1697)</td>\n",
       "    </tr>\n",
       "    <tr>\n",
       "      <th>1</th>\n",
       "      <td>1</td>\n",
       "      <td>98-White-Widow</td>\n",
       "      <td>hybrid</td>\n",
       "      <td>Relaxed,Aroused,Creative,Happy,Energetic</td>\n",
       "      <td>Flowery,Violet,Diesel</td>\n",
       "      <td>The ‘98 Aloha White Widow is an especially pot...</td>\n",
       "      <td>NaN</td>\n",
       "      <td>NaN</td>\n",
       "      <td>98-White-Widow hybrid Relaxed,Aroused,Creative...</td>\n",
       "      <td>98-white widow hybrid Relaxed arouse Creative ...</td>\n",
       "      <td>(2240, 237, 820, 2221, 2239)</td>\n",
       "    </tr>\n",
       "    <tr>\n",
       "      <th>2</th>\n",
       "      <td>2</td>\n",
       "      <td>1024</td>\n",
       "      <td>sativa</td>\n",
       "      <td>Uplifted,Happy,Relaxed,Energetic,Creative</td>\n",
       "      <td>Spicy/Herbal,Sage,Woody</td>\n",
       "      <td>1024 is a sativa-dominant hybrid bred in Spain...</td>\n",
       "      <td>1024</td>\n",
       "      <td>Stress, Pain, Depression, Inflammation</td>\n",
       "      <td>1024 sativa Uplifted,Happy,Relaxed,Energetic,C...</td>\n",
       "      <td>1024 sativa Uplifted happy relaxed energetic C...</td>\n",
       "      <td>(1041, 1014, 2171, 620, 1413)</td>\n",
       "    </tr>\n",
       "    <tr>\n",
       "      <th>3</th>\n",
       "      <td>3</td>\n",
       "      <td>13-Dawgs</td>\n",
       "      <td>hybrid</td>\n",
       "      <td>Tingly,Creative,Hungry,Relaxed,Uplifted</td>\n",
       "      <td>Apricot,Citrus,Grapefruit</td>\n",
       "      <td>13 Dawgs is a hybrid of G13 and Chemdawg genet...</td>\n",
       "      <td>NaN</td>\n",
       "      <td>NaN</td>\n",
       "      <td>13-Dawgs hybrid Tingly,Creative,Hungry,Relaxed...</td>\n",
       "      <td>13-dawgs hybrid Tingly creative hungry Relaxed...</td>\n",
       "      <td>(3, 1026, 1043, 133, 913)</td>\n",
       "    </tr>\n",
       "    <tr>\n",
       "      <th>4</th>\n",
       "      <td>4</td>\n",
       "      <td>24K-Gold</td>\n",
       "      <td>hybrid</td>\n",
       "      <td>Happy,Relaxed,Euphoric,Uplifted,Talkative</td>\n",
       "      <td>Citrus,Earthy,Orange</td>\n",
       "      <td>Also known as Kosher Tangie, 24k Gold is a 60%...</td>\n",
       "      <td>NaN</td>\n",
       "      <td>NaN</td>\n",
       "      <td>24K-Gold hybrid Happy,Relaxed,Euphoric,Uplifte...</td>\n",
       "      <td>24k gold hybrid Happy Relaxed Euphoric Uplifte...</td>\n",
       "      <td>(1498, 1483, 1172, 544, 1496)</td>\n",
       "    </tr>\n",
       "  </tbody>\n",
       "</table>\n",
       "</div>"
      ],
      "text/plain": [
       "   index          Strain    Type                                     Effects  \\\n",
       "0      0          100-Og  hybrid  Creative,Energetic,Tingly,Euphoric,Relaxed   \n",
       "1      1  98-White-Widow  hybrid    Relaxed,Aroused,Creative,Happy,Energetic   \n",
       "2      2            1024  sativa   Uplifted,Happy,Relaxed,Energetic,Creative   \n",
       "3      3        13-Dawgs  hybrid     Tingly,Creative,Hungry,Relaxed,Uplifted   \n",
       "4      4        24K-Gold  hybrid   Happy,Relaxed,Euphoric,Uplifted,Talkative   \n",
       "\n",
       "                      Flavor  \\\n",
       "0        Earthy,Sweet,Citrus   \n",
       "1      Flowery,Violet,Diesel   \n",
       "2    Spicy/Herbal,Sage,Woody   \n",
       "3  Apricot,Citrus,Grapefruit   \n",
       "4       Citrus,Earthy,Orange   \n",
       "\n",
       "                                         Description  name  \\\n",
       "0  $100 OG is a 50/50 hybrid strain that packs a ...   NaN   \n",
       "1  The ‘98 Aloha White Widow is an especially pot...   NaN   \n",
       "2  1024 is a sativa-dominant hybrid bred in Spain...  1024   \n",
       "3  13 Dawgs is a hybrid of G13 and Chemdawg genet...   NaN   \n",
       "4  Also known as Kosher Tangie, 24k Gold is a 60%...   NaN   \n",
       "\n",
       "                                  ailment  \\\n",
       "0                                     NaN   \n",
       "1                                     NaN   \n",
       "2  Stress, Pain, Depression, Inflammation   \n",
       "3                                     NaN   \n",
       "4                                     NaN   \n",
       "\n",
       "                                            all_text  \\\n",
       "0  100-Og hybrid Creative,Energetic,Tingly,Euphor...   \n",
       "1  98-White-Widow hybrid Relaxed,Aroused,Creative...   \n",
       "2  1024 sativa Uplifted,Happy,Relaxed,Energetic,C...   \n",
       "3  13-Dawgs hybrid Tingly,Creative,Hungry,Relaxed...   \n",
       "4  24K-Gold hybrid Happy,Relaxed,Euphoric,Uplifte...   \n",
       "\n",
       "                                              lemmas  \\\n",
       "0  100-Og hybrid Creative energetic Tingly Euphor...   \n",
       "1  98-white widow hybrid Relaxed arouse Creative ...   \n",
       "2  1024 sativa Uplifted happy relaxed energetic C...   \n",
       "3  13-dawgs hybrid Tingly creative hungry Relaxed...   \n",
       "4  24k gold hybrid Happy Relaxed Euphoric Uplifte...   \n",
       "\n",
       "                 Cos Sim Strains  \n",
       "0  (670, 2137, 1837, 1384, 1697)  \n",
       "1   (2240, 237, 820, 2221, 2239)  \n",
       "2  (1041, 1014, 2171, 620, 1413)  \n",
       "3      (3, 1026, 1043, 133, 913)  \n",
       "4  (1498, 1483, 1172, 544, 1496)  "
      ]
     },
     "execution_count": 36,
     "metadata": {},
     "output_type": "execute_result"
    }
   ],
   "source": [
    "df_strains.head()"
   ]
  },
  {
   "cell_type": "markdown",
   "metadata": {},
   "source": [
    "# K-Nearest Neighbors Model"
   ]
  },
  {
   "cell_type": "code",
   "execution_count": 37,
   "metadata": {},
   "outputs": [],
   "source": [
    "# Imports\n",
    "\n",
    "from sklearn.neighbors import NearestNeighbors"
   ]
  },
  {
   "cell_type": "code",
   "execution_count": 38,
   "metadata": {},
   "outputs": [
    {
     "data": {
      "text/plain": [
       "NearestNeighbors(algorithm='kd_tree', leaf_size=30, metric='minkowski',\n",
       "                 metric_params=None, n_jobs=None, n_neighbors=5, p=2,\n",
       "                 radius=1.0)"
      ]
     },
     "execution_count": 38,
     "metadata": {},
     "output_type": "execute_result"
    }
   ],
   "source": [
    "# Instantiating & fitting model to dtm\n",
    "\n",
    "knn = NearestNeighbors(n_neighbors=5, algorithm='kd_tree')\n",
    "knn.fit(dtm)"
   ]
  },
  {
   "cell_type": "markdown",
   "metadata": {},
   "source": [
    "## Testing Trained KNN Model on Test Input"
   ]
  },
  {
   "cell_type": "code",
   "execution_count": 39,
   "metadata": {},
   "outputs": [],
   "source": [
    "test_input = ['I want a strain that would make me relaxed and euphoric as well as sleepy']"
   ]
  },
  {
   "cell_type": "code",
   "execution_count": 40,
   "metadata": {},
   "outputs": [],
   "source": [
    "# vect = TfidfVectorizer(stop_words=\"english\", min_df=0.025, max_df=0.98, ngram_range=(1,3))"
   ]
  },
  {
   "cell_type": "code",
   "execution_count": 41,
   "metadata": {},
   "outputs": [],
   "source": [
    "# Vectorizing & Processing Raw Test Input\n",
    "\n",
    "test_input = vect.transform(test_input)"
   ]
  },
  {
   "cell_type": "code",
   "execution_count": 42,
   "metadata": {},
   "outputs": [],
   "source": [
    "test_input = test_input.todense()"
   ]
  },
  {
   "cell_type": "code",
   "execution_count": 43,
   "metadata": {},
   "outputs": [
    {
     "data": {
      "text/plain": [
       "(1, 470)"
      ]
     },
     "execution_count": 43,
     "metadata": {},
     "output_type": "execute_result"
    }
   ],
   "source": [
    "test_input.shape"
   ]
  },
  {
   "cell_type": "code",
   "execution_count": 44,
   "metadata": {},
   "outputs": [
    {
     "data": {
      "text/plain": [
       "(2280, 470)"
      ]
     },
     "execution_count": 44,
     "metadata": {},
     "output_type": "execute_result"
    }
   ],
   "source": [
    "dtm.shape"
   ]
  },
  {
   "cell_type": "code",
   "execution_count": 45,
   "metadata": {},
   "outputs": [],
   "source": [
    "# Calculating Predicted Strains\n",
    "\n",
    "predictions = knn.kneighbors(test_input)"
   ]
  },
  {
   "cell_type": "code",
   "execution_count": 46,
   "metadata": {},
   "outputs": [
    {
     "data": {
      "text/plain": [
       "(array([[1.15460767, 1.16417069, 1.16888279, 1.18009562, 1.19276626]]),\n",
       " array([[ 186, 1195, 1484, 1537, 2089]]))"
      ]
     },
     "execution_count": 46,
     "metadata": {},
     "output_type": "execute_result"
    }
   ],
   "source": [
    "predictions"
   ]
  },
  {
   "cell_type": "code",
   "execution_count": 47,
   "metadata": {},
   "outputs": [
    {
     "data": {
      "text/plain": [
       "array([ 186, 1195, 1484, 1537, 2089])"
      ]
     },
     "execution_count": 47,
     "metadata": {},
     "output_type": "execute_result"
    }
   ],
   "source": [
    "# Top 5 Predictions\n",
    "\n",
    "predictions[1][0]"
   ]
  },
  {
   "cell_type": "code",
   "execution_count": 48,
   "metadata": {},
   "outputs": [],
   "source": [
    "top_match = predictions[1][0][0]"
   ]
  },
  {
   "cell_type": "code",
   "execution_count": 49,
   "metadata": {},
   "outputs": [
    {
     "data": {
      "text/plain": [
       "186"
      ]
     },
     "execution_count": 49,
     "metadata": {},
     "output_type": "execute_result"
    }
   ],
   "source": [
    "top_match"
   ]
  },
  {
   "cell_type": "code",
   "execution_count": 50,
   "metadata": {},
   "outputs": [],
   "source": [
    "output = df_strains.iloc[top_match]"
   ]
  },
  {
   "cell_type": "code",
   "execution_count": 51,
   "metadata": {},
   "outputs": [
    {
     "data": {
      "text/plain": [
       "{'index': 186,\n",
       " 'Strain': 'Berry-Noir',\n",
       " 'Type': 'indica',\n",
       " 'Effects': 'Relaxed,Euphoric,Sleepy,Happy,Hungry',\n",
       " 'Flavor': 'Berry,Earthy,Sweet',\n",
       " 'Description': 'Berry Noir is an indica strain that competed in the 2014 L.A. Cannabis Cup.'}"
      ]
     },
     "execution_count": 51,
     "metadata": {},
     "output_type": "execute_result"
    }
   ],
   "source": [
    "output.drop(['name', 'ailment', 'all_text', 'lemmas', 'Cos Sim Strains']).to_dict()"
   ]
  },
  {
   "cell_type": "code",
   "execution_count": null,
   "metadata": {},
   "outputs": [],
   "source": []
  },
  {
   "cell_type": "code",
   "execution_count": null,
   "metadata": {},
   "outputs": [],
   "source": []
  },
  {
   "cell_type": "markdown",
   "metadata": {},
   "source": [
    "## Creating Test DataBase in MongoDB"
   ]
  },
  {
   "cell_type": "code",
   "execution_count": 67,
   "metadata": {},
   "outputs": [
    {
     "ename": "SyntaxError",
     "evalue": "invalid syntax (<ipython-input-67-b84a48a41984>, line 1)",
     "output_type": "error",
     "traceback": [
      "\u001b[0;36m  File \u001b[0;32m\"<ipython-input-67-b84a48a41984>\"\u001b[0;36m, line \u001b[0;32m1\u001b[0m\n\u001b[0;31m    pipenv install pymongo\u001b[0m\n\u001b[0m                 ^\u001b[0m\n\u001b[0;31mSyntaxError\u001b[0m\u001b[0;31m:\u001b[0m invalid syntax\n"
     ]
    }
   ],
   "source": [
    "pipenv install pymongo"
   ]
  },
  {
   "cell_type": "code",
   "execution_count": 59,
   "metadata": {},
   "outputs": [],
   "source": [
    "from pymongo import MongoClient"
   ]
  },
  {
   "cell_type": "code",
   "execution_count": 54,
   "metadata": {},
   "outputs": [],
   "source": [
    "# Mongo Credentials\n",
    "\n",
    "MONGODB_USER = 'pot_head'\n",
    "MONGODB_PASS = 'vSSweD3UfaPfLbCl'\n",
    "MONGODB_URI = 'cannabis.plrhi.mongodb.net'"
   ]
  },
  {
   "cell_type": "code",
   "execution_count": 60,
   "metadata": {},
   "outputs": [
    {
     "ename": "ConfigurationError",
     "evalue": "The \"dnspython\" module must be installed to use mongodb+srv:// URIs",
     "output_type": "error",
     "traceback": [
      "\u001b[0;31m---------------------------------------------------------------------------\u001b[0m",
      "\u001b[0;31mConfigurationError\u001b[0m                        Traceback (most recent call last)",
      "\u001b[0;32m<ipython-input-60-7767a92fce75>\u001b[0m in \u001b[0;36m<module>\u001b[0;34m\u001b[0m\n\u001b[0;32m----> 1\u001b[0;31m \u001b[0mclient\u001b[0m \u001b[0;34m=\u001b[0m \u001b[0mMongoClient\u001b[0m\u001b[0;34m(\u001b[0m\u001b[0;34mf\"mongodb+srv://{MONGODB_USER}:{MONGODB_PASS}@{MONGODB_URI}/<dbname>?retryWrites=true&w=majority\"\u001b[0m\u001b[0;34m)\u001b[0m\u001b[0;34m\u001b[0m\u001b[0m\n\u001b[0m\u001b[1;32m      2\u001b[0m \u001b[0mdb\u001b[0m \u001b[0;34m=\u001b[0m \u001b[0mclient\u001b[0m\u001b[0;34m.\u001b[0m\u001b[0mtest\u001b[0m\u001b[0;34m\u001b[0m\u001b[0m\n",
      "\u001b[0;32m~/miniconda3/envs/U4-S1-NLP/lib/python3.7/site-packages/pymongo/mongo_client.py\u001b[0m in \u001b[0;36m__init__\u001b[0;34m(self, host, port, document_class, tz_aware, connect, type_registry, **kwargs)\u001b[0m\n\u001b[1;32m    639\u001b[0m                 res = uri_parser.parse_uri(\n\u001b[1;32m    640\u001b[0m                     \u001b[0mentity\u001b[0m\u001b[0;34m,\u001b[0m \u001b[0mport\u001b[0m\u001b[0;34m,\u001b[0m \u001b[0mvalidate\u001b[0m\u001b[0;34m=\u001b[0m\u001b[0;32mTrue\u001b[0m\u001b[0;34m,\u001b[0m \u001b[0mwarn\u001b[0m\u001b[0;34m=\u001b[0m\u001b[0;32mTrue\u001b[0m\u001b[0;34m,\u001b[0m \u001b[0mnormalize\u001b[0m\u001b[0;34m=\u001b[0m\u001b[0;32mFalse\u001b[0m\u001b[0;34m,\u001b[0m\u001b[0;34m\u001b[0m\u001b[0m\n\u001b[0;32m--> 641\u001b[0;31m                     connect_timeout=timeout)\n\u001b[0m\u001b[1;32m    642\u001b[0m                 \u001b[0mseeds\u001b[0m\u001b[0;34m.\u001b[0m\u001b[0mupdate\u001b[0m\u001b[0;34m(\u001b[0m\u001b[0mres\u001b[0m\u001b[0;34m[\u001b[0m\u001b[0;34m\"nodelist\"\u001b[0m\u001b[0;34m]\u001b[0m\u001b[0;34m)\u001b[0m\u001b[0;34m\u001b[0m\u001b[0m\n\u001b[1;32m    643\u001b[0m                 \u001b[0musername\u001b[0m \u001b[0;34m=\u001b[0m \u001b[0mres\u001b[0m\u001b[0;34m[\u001b[0m\u001b[0;34m\"username\"\u001b[0m\u001b[0;34m]\u001b[0m \u001b[0;32mor\u001b[0m \u001b[0musername\u001b[0m\u001b[0;34m\u001b[0m\u001b[0m\n",
      "\u001b[0;32m~/miniconda3/envs/U4-S1-NLP/lib/python3.7/site-packages/pymongo/uri_parser.py\u001b[0m in \u001b[0;36mparse_uri\u001b[0;34m(uri, default_port, validate, warn, normalize, connect_timeout)\u001b[0m\n\u001b[1;32m    426\u001b[0m     \u001b[0;32melif\u001b[0m \u001b[0muri\u001b[0m\u001b[0;34m.\u001b[0m\u001b[0mstartswith\u001b[0m\u001b[0;34m(\u001b[0m\u001b[0mSRV_SCHEME\u001b[0m\u001b[0;34m)\u001b[0m\u001b[0;34m:\u001b[0m\u001b[0;34m\u001b[0m\u001b[0m\n\u001b[1;32m    427\u001b[0m         \u001b[0;32mif\u001b[0m \u001b[0;32mnot\u001b[0m \u001b[0m_HAVE_DNSPYTHON\u001b[0m\u001b[0;34m:\u001b[0m\u001b[0;34m\u001b[0m\u001b[0m\n\u001b[0;32m--> 428\u001b[0;31m             raise ConfigurationError('The \"dnspython\" module must be '\n\u001b[0m\u001b[1;32m    429\u001b[0m                                      'installed to use mongodb+srv:// URIs')\n\u001b[1;32m    430\u001b[0m         \u001b[0mis_srv\u001b[0m \u001b[0;34m=\u001b[0m \u001b[0;32mTrue\u001b[0m\u001b[0;34m\u001b[0m\u001b[0m\n",
      "\u001b[0;31mConfigurationError\u001b[0m: The \"dnspython\" module must be installed to use mongodb+srv:// URIs"
     ]
    }
   ],
   "source": [
    "client = MongoClient(f\"mongodb+srv://{MONGODB_USER}:{MONGODB_PASS}@{MONGODB_URI}/<dbname>?retryWrites=true&w=majority\")\n",
    "db = client.test\n"
   ]
  },
  {
   "cell_type": "code",
   "execution_count": 61,
   "metadata": {},
   "outputs": [
    {
     "ename": "SyntaxError",
     "evalue": "invalid syntax (<ipython-input-61-ec781a2b0cb4>, line 1)",
     "output_type": "error",
     "traceback": [
      "\u001b[0;36m  File \u001b[0;32m\"<ipython-input-61-ec781a2b0cb4>\"\u001b[0;36m, line \u001b[0;32m1\u001b[0m\n\u001b[0;31m    pipenv graph\u001b[0m\n\u001b[0m               ^\u001b[0m\n\u001b[0;31mSyntaxError\u001b[0m\u001b[0;31m:\u001b[0m invalid syntax\n"
     ]
    }
   ],
   "source": []
  },
  {
   "cell_type": "code",
   "execution_count": null,
   "metadata": {},
   "outputs": [],
   "source": []
  },
  {
   "cell_type": "code",
   "execution_count": null,
   "metadata": {},
   "outputs": [],
   "source": []
  },
  {
   "cell_type": "code",
   "execution_count": null,
   "metadata": {},
   "outputs": [],
   "source": []
  },
  {
   "cell_type": "code",
   "execution_count": null,
   "metadata": {},
   "outputs": [],
   "source": []
  },
  {
   "cell_type": "code",
   "execution_count": null,
   "metadata": {},
   "outputs": [],
   "source": []
  },
  {
   "cell_type": "markdown",
   "metadata": {},
   "source": [
    "## Testing User Input on Cosine Similarity Model"
   ]
  },
  {
   "cell_type": "code",
   "execution_count": 133,
   "metadata": {},
   "outputs": [
    {
     "name": "stdout",
     "output_type": "stream",
     "text": [
      "\u001b[38;5;2m✔ Download and installation successful\u001b[0m\n",
      "You can now load the model via spacy.load('en_core_web_sm')\n"
     ]
    }
   ],
   "source": [
    "import spacy.cli\n",
    "spacy.cli.download(\"en_core_web_sm\")"
   ]
  },
  {
   "cell_type": "code",
   "execution_count": 134,
   "metadata": {},
   "outputs": [],
   "source": [
    "import spacy\n",
    "nlp = spacy.load(\"en_core_web_sm\")"
   ]
  },
  {
   "cell_type": "code",
   "execution_count": 135,
   "metadata": {},
   "outputs": [],
   "source": [
    "# Function for Tokenizing User Input\n",
    "\n",
    "def tokenize(document):\n",
    "    doc = nlp(document)\n",
    "    return [token.lemma_.strip() for token in doc if (token.is_stop != True) and (token.is_punct != True)]"
   ]
  },
  {
   "cell_type": "code",
   "execution_count": 136,
   "metadata": {},
   "outputs": [],
   "source": [
    "user_input_raw = \"uplifting strain for depression\""
   ]
  },
  {
   "cell_type": "code",
   "execution_count": 137,
   "metadata": {},
   "outputs": [],
   "source": [
    "# Tokenizing User Input\n",
    "\n",
    "user_input = tokenize(user_input_raw)"
   ]
  },
  {
   "cell_type": "code",
   "execution_count": 138,
   "metadata": {},
   "outputs": [],
   "source": [
    "# Converting user input into vectors for DTM\n",
    "\n",
    "dtm_ui = tfidf.fit_transform(user_input)"
   ]
  },
  {
   "cell_type": "code",
   "execution_count": 141,
   "metadata": {},
   "outputs": [],
   "source": [
    "dtm_ui = pd.DataFrame(dtm_ui.todense(), columns=tfidf.get_feature_names())"
   ]
  },
  {
   "cell_type": "code",
   "execution_count": 142,
   "metadata": {},
   "outputs": [
    {
     "data": {
      "text/html": [
       "<div>\n",
       "<style scoped>\n",
       "    .dataframe tbody tr th:only-of-type {\n",
       "        vertical-align: middle;\n",
       "    }\n",
       "\n",
       "    .dataframe tbody tr th {\n",
       "        vertical-align: top;\n",
       "    }\n",
       "\n",
       "    .dataframe thead th {\n",
       "        text-align: right;\n",
       "    }\n",
       "</style>\n",
       "<table border=\"1\" class=\"dataframe\">\n",
       "  <thead>\n",
       "    <tr style=\"text-align: right;\">\n",
       "      <th></th>\n",
       "      <th>depression</th>\n",
       "      <th>strain</th>\n",
       "      <th>uplifting</th>\n",
       "    </tr>\n",
       "  </thead>\n",
       "  <tbody>\n",
       "    <tr>\n",
       "      <th>0</th>\n",
       "      <td>0.0</td>\n",
       "      <td>0.0</td>\n",
       "      <td>1.0</td>\n",
       "    </tr>\n",
       "    <tr>\n",
       "      <th>1</th>\n",
       "      <td>0.0</td>\n",
       "      <td>1.0</td>\n",
       "      <td>0.0</td>\n",
       "    </tr>\n",
       "    <tr>\n",
       "      <th>2</th>\n",
       "      <td>1.0</td>\n",
       "      <td>0.0</td>\n",
       "      <td>0.0</td>\n",
       "    </tr>\n",
       "  </tbody>\n",
       "</table>\n",
       "</div>"
      ],
      "text/plain": [
       "   depression  strain  uplifting\n",
       "0         0.0     0.0        1.0\n",
       "1         0.0     1.0        0.0\n",
       "2         1.0     0.0        0.0"
      ]
     },
     "execution_count": 142,
     "metadata": {},
     "output_type": "execute_result"
    }
   ],
   "source": [
    "dtm_ui"
   ]
  },
  {
   "cell_type": "code",
   "execution_count": 147,
   "metadata": {},
   "outputs": [
    {
     "ename": "SyntaxError",
     "evalue": "invalid syntax (<ipython-input-147-40cce11ae824>, line 1)",
     "output_type": "error",
     "traceback": [
      "\u001b[0;36m  File \u001b[0;32m\"<ipython-input-147-40cce11ae824>\"\u001b[0;36m, line \u001b[0;32m1\u001b[0m\n\u001b[0;31m    cosine_similarity()?\u001b[0m\n\u001b[0m                       ^\u001b[0m\n\u001b[0;31mSyntaxError\u001b[0m\u001b[0;31m:\u001b[0m invalid syntax\n"
     ]
    }
   ],
   "source": []
  },
  {
   "cell_type": "code",
   "execution_count": null,
   "metadata": {},
   "outputs": [],
   "source": []
  },
  {
   "cell_type": "code",
   "execution_count": null,
   "metadata": {},
   "outputs": [],
   "source": []
  },
  {
   "cell_type": "code",
   "execution_count": null,
   "metadata": {},
   "outputs": [],
   "source": []
  }
 ],
 "metadata": {
  "kernelspec": {
   "display_name": "U4-S1-NLP (Python3)",
   "language": "python",
   "name": "u4-s1-nlp"
  },
  "language_info": {
   "codemirror_mode": {
    "name": "ipython",
    "version": 3
   },
   "file_extension": ".py",
   "mimetype": "text/x-python",
   "name": "python",
   "nbconvert_exporter": "python",
   "pygments_lexer": "ipython3",
   "version": "3.7.0"
  }
 },
 "nbformat": 4,
 "nbformat_minor": 4
}
