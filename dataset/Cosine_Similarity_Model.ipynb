{
 "cells": [
  {
   "cell_type": "markdown",
   "metadata": {},
   "source": [
    "# Cosine Similarity Model"
   ]
  },
  {
   "cell_type": "markdown",
   "metadata": {},
   "source": [
    "#### Alternatve model for medicine cabinet project using Cosine Similarity to predict cannabis strain recommendations based on user input."
   ]
  },
  {
   "cell_type": "code",
   "execution_count": 43,
   "metadata": {},
   "outputs": [],
   "source": [
    "# Imports\n",
    "\n",
    "import pandas as pd\n",
    "import numpy as np"
   ]
  },
  {
   "cell_type": "code",
   "execution_count": 44,
   "metadata": {},
   "outputs": [],
   "source": [
    "# Loading preprocessed data - Courtesy Curdt Million\n",
    "\n",
    "df = pd.read_csv(\"lemmatized_strains.csv\")"
   ]
  },
  {
   "cell_type": "code",
   "execution_count": 45,
   "metadata": {},
   "outputs": [
    {
     "data": {
      "text/html": [
       "<div>\n",
       "<style scoped>\n",
       "    .dataframe tbody tr th:only-of-type {\n",
       "        vertical-align: middle;\n",
       "    }\n",
       "\n",
       "    .dataframe tbody tr th {\n",
       "        vertical-align: top;\n",
       "    }\n",
       "\n",
       "    .dataframe thead th {\n",
       "        text-align: right;\n",
       "    }\n",
       "</style>\n",
       "<table border=\"1\" class=\"dataframe\">\n",
       "  <thead>\n",
       "    <tr style=\"text-align: right;\">\n",
       "      <th></th>\n",
       "      <th>Unnamed: 0</th>\n",
       "      <th>Strain</th>\n",
       "      <th>Type</th>\n",
       "      <th>Effects</th>\n",
       "      <th>Flavor</th>\n",
       "      <th>Description</th>\n",
       "      <th>name</th>\n",
       "      <th>ailment</th>\n",
       "      <th>all_text</th>\n",
       "      <th>lemmas</th>\n",
       "    </tr>\n",
       "  </thead>\n",
       "  <tbody>\n",
       "    <tr>\n",
       "      <th>0</th>\n",
       "      <td>0</td>\n",
       "      <td>100-Og</td>\n",
       "      <td>hybrid</td>\n",
       "      <td>Creative,Energetic,Tingly,Euphoric,Relaxed</td>\n",
       "      <td>Earthy,Sweet,Citrus</td>\n",
       "      <td>$100 OG is a 50/50 hybrid strain that packs a ...</td>\n",
       "      <td>NaN</td>\n",
       "      <td>NaN</td>\n",
       "      <td>100-Og hybrid Creative,Energetic,Tingly,Euphor...</td>\n",
       "      <td>100-Og hybrid Creative energetic Tingly Euphor...</td>\n",
       "    </tr>\n",
       "    <tr>\n",
       "      <th>1</th>\n",
       "      <td>1</td>\n",
       "      <td>98-White-Widow</td>\n",
       "      <td>hybrid</td>\n",
       "      <td>Relaxed,Aroused,Creative,Happy,Energetic</td>\n",
       "      <td>Flowery,Violet,Diesel</td>\n",
       "      <td>The ‘98 Aloha White Widow is an especially pot...</td>\n",
       "      <td>NaN</td>\n",
       "      <td>NaN</td>\n",
       "      <td>98-White-Widow hybrid Relaxed,Aroused,Creative...</td>\n",
       "      <td>98-white widow hybrid Relaxed arouse Creative ...</td>\n",
       "    </tr>\n",
       "    <tr>\n",
       "      <th>2</th>\n",
       "      <td>2</td>\n",
       "      <td>1024</td>\n",
       "      <td>sativa</td>\n",
       "      <td>Uplifted,Happy,Relaxed,Energetic,Creative</td>\n",
       "      <td>Spicy/Herbal,Sage,Woody</td>\n",
       "      <td>1024 is a sativa-dominant hybrid bred in Spain...</td>\n",
       "      <td>1024</td>\n",
       "      <td>Stress, Pain, Depression, Inflammation</td>\n",
       "      <td>1024 sativa Uplifted,Happy,Relaxed,Energetic,C...</td>\n",
       "      <td>1024 sativa Uplifted happy relaxed energetic C...</td>\n",
       "    </tr>\n",
       "    <tr>\n",
       "      <th>3</th>\n",
       "      <td>3</td>\n",
       "      <td>13-Dawgs</td>\n",
       "      <td>hybrid</td>\n",
       "      <td>Tingly,Creative,Hungry,Relaxed,Uplifted</td>\n",
       "      <td>Apricot,Citrus,Grapefruit</td>\n",
       "      <td>13 Dawgs is a hybrid of G13 and Chemdawg genet...</td>\n",
       "      <td>NaN</td>\n",
       "      <td>NaN</td>\n",
       "      <td>13-Dawgs hybrid Tingly,Creative,Hungry,Relaxed...</td>\n",
       "      <td>13-dawgs hybrid Tingly creative hungry Relaxed...</td>\n",
       "    </tr>\n",
       "    <tr>\n",
       "      <th>4</th>\n",
       "      <td>4</td>\n",
       "      <td>24K-Gold</td>\n",
       "      <td>hybrid</td>\n",
       "      <td>Happy,Relaxed,Euphoric,Uplifted,Talkative</td>\n",
       "      <td>Citrus,Earthy,Orange</td>\n",
       "      <td>Also known as Kosher Tangie, 24k Gold is a 60%...</td>\n",
       "      <td>NaN</td>\n",
       "      <td>NaN</td>\n",
       "      <td>24K-Gold hybrid Happy,Relaxed,Euphoric,Uplifte...</td>\n",
       "      <td>24k gold hybrid Happy Relaxed Euphoric Uplifte...</td>\n",
       "    </tr>\n",
       "  </tbody>\n",
       "</table>\n",
       "</div>"
      ],
      "text/plain": [
       "   Unnamed: 0          Strain    Type  \\\n",
       "0           0          100-Og  hybrid   \n",
       "1           1  98-White-Widow  hybrid   \n",
       "2           2            1024  sativa   \n",
       "3           3        13-Dawgs  hybrid   \n",
       "4           4        24K-Gold  hybrid   \n",
       "\n",
       "                                      Effects                     Flavor  \\\n",
       "0  Creative,Energetic,Tingly,Euphoric,Relaxed        Earthy,Sweet,Citrus   \n",
       "1    Relaxed,Aroused,Creative,Happy,Energetic      Flowery,Violet,Diesel   \n",
       "2   Uplifted,Happy,Relaxed,Energetic,Creative    Spicy/Herbal,Sage,Woody   \n",
       "3     Tingly,Creative,Hungry,Relaxed,Uplifted  Apricot,Citrus,Grapefruit   \n",
       "4   Happy,Relaxed,Euphoric,Uplifted,Talkative       Citrus,Earthy,Orange   \n",
       "\n",
       "                                         Description  name  \\\n",
       "0  $100 OG is a 50/50 hybrid strain that packs a ...   NaN   \n",
       "1  The ‘98 Aloha White Widow is an especially pot...   NaN   \n",
       "2  1024 is a sativa-dominant hybrid bred in Spain...  1024   \n",
       "3  13 Dawgs is a hybrid of G13 and Chemdawg genet...   NaN   \n",
       "4  Also known as Kosher Tangie, 24k Gold is a 60%...   NaN   \n",
       "\n",
       "                                  ailment  \\\n",
       "0                                     NaN   \n",
       "1                                     NaN   \n",
       "2  Stress, Pain, Depression, Inflammation   \n",
       "3                                     NaN   \n",
       "4                                     NaN   \n",
       "\n",
       "                                            all_text  \\\n",
       "0  100-Og hybrid Creative,Energetic,Tingly,Euphor...   \n",
       "1  98-White-Widow hybrid Relaxed,Aroused,Creative...   \n",
       "2  1024 sativa Uplifted,Happy,Relaxed,Energetic,C...   \n",
       "3  13-Dawgs hybrid Tingly,Creative,Hungry,Relaxed...   \n",
       "4  24K-Gold hybrid Happy,Relaxed,Euphoric,Uplifte...   \n",
       "\n",
       "                                              lemmas  \n",
       "0  100-Og hybrid Creative energetic Tingly Euphor...  \n",
       "1  98-white widow hybrid Relaxed arouse Creative ...  \n",
       "2  1024 sativa Uplifted happy relaxed energetic C...  \n",
       "3  13-dawgs hybrid Tingly creative hungry Relaxed...  \n",
       "4  24k gold hybrid Happy Relaxed Euphoric Uplifte...  "
      ]
     },
     "execution_count": 45,
     "metadata": {},
     "output_type": "execute_result"
    }
   ],
   "source": [
    "df.head()"
   ]
  },
  {
   "cell_type": "code",
   "execution_count": 46,
   "metadata": {},
   "outputs": [],
   "source": [
    "# Dropping unnamed columns & resetting index\n",
    "\n",
    "df = df.drop('Unnamed: 0', axis=1).reset_index()"
   ]
  },
  {
   "cell_type": "code",
   "execution_count": 47,
   "metadata": {},
   "outputs": [
    {
     "data": {
      "text/html": [
       "<div>\n",
       "<style scoped>\n",
       "    .dataframe tbody tr th:only-of-type {\n",
       "        vertical-align: middle;\n",
       "    }\n",
       "\n",
       "    .dataframe tbody tr th {\n",
       "        vertical-align: top;\n",
       "    }\n",
       "\n",
       "    .dataframe thead th {\n",
       "        text-align: right;\n",
       "    }\n",
       "</style>\n",
       "<table border=\"1\" class=\"dataframe\">\n",
       "  <thead>\n",
       "    <tr style=\"text-align: right;\">\n",
       "      <th></th>\n",
       "      <th>index</th>\n",
       "      <th>Strain</th>\n",
       "      <th>Type</th>\n",
       "      <th>Effects</th>\n",
       "      <th>Flavor</th>\n",
       "      <th>Description</th>\n",
       "      <th>name</th>\n",
       "      <th>ailment</th>\n",
       "      <th>all_text</th>\n",
       "      <th>lemmas</th>\n",
       "    </tr>\n",
       "  </thead>\n",
       "  <tbody>\n",
       "    <tr>\n",
       "      <th>0</th>\n",
       "      <td>0</td>\n",
       "      <td>100-Og</td>\n",
       "      <td>hybrid</td>\n",
       "      <td>Creative,Energetic,Tingly,Euphoric,Relaxed</td>\n",
       "      <td>Earthy,Sweet,Citrus</td>\n",
       "      <td>$100 OG is a 50/50 hybrid strain that packs a ...</td>\n",
       "      <td>NaN</td>\n",
       "      <td>NaN</td>\n",
       "      <td>100-Og hybrid Creative,Energetic,Tingly,Euphor...</td>\n",
       "      <td>100-Og hybrid Creative energetic Tingly Euphor...</td>\n",
       "    </tr>\n",
       "    <tr>\n",
       "      <th>1</th>\n",
       "      <td>1</td>\n",
       "      <td>98-White-Widow</td>\n",
       "      <td>hybrid</td>\n",
       "      <td>Relaxed,Aroused,Creative,Happy,Energetic</td>\n",
       "      <td>Flowery,Violet,Diesel</td>\n",
       "      <td>The ‘98 Aloha White Widow is an especially pot...</td>\n",
       "      <td>NaN</td>\n",
       "      <td>NaN</td>\n",
       "      <td>98-White-Widow hybrid Relaxed,Aroused,Creative...</td>\n",
       "      <td>98-white widow hybrid Relaxed arouse Creative ...</td>\n",
       "    </tr>\n",
       "    <tr>\n",
       "      <th>2</th>\n",
       "      <td>2</td>\n",
       "      <td>1024</td>\n",
       "      <td>sativa</td>\n",
       "      <td>Uplifted,Happy,Relaxed,Energetic,Creative</td>\n",
       "      <td>Spicy/Herbal,Sage,Woody</td>\n",
       "      <td>1024 is a sativa-dominant hybrid bred in Spain...</td>\n",
       "      <td>1024</td>\n",
       "      <td>Stress, Pain, Depression, Inflammation</td>\n",
       "      <td>1024 sativa Uplifted,Happy,Relaxed,Energetic,C...</td>\n",
       "      <td>1024 sativa Uplifted happy relaxed energetic C...</td>\n",
       "    </tr>\n",
       "    <tr>\n",
       "      <th>3</th>\n",
       "      <td>3</td>\n",
       "      <td>13-Dawgs</td>\n",
       "      <td>hybrid</td>\n",
       "      <td>Tingly,Creative,Hungry,Relaxed,Uplifted</td>\n",
       "      <td>Apricot,Citrus,Grapefruit</td>\n",
       "      <td>13 Dawgs is a hybrid of G13 and Chemdawg genet...</td>\n",
       "      <td>NaN</td>\n",
       "      <td>NaN</td>\n",
       "      <td>13-Dawgs hybrid Tingly,Creative,Hungry,Relaxed...</td>\n",
       "      <td>13-dawgs hybrid Tingly creative hungry Relaxed...</td>\n",
       "    </tr>\n",
       "    <tr>\n",
       "      <th>4</th>\n",
       "      <td>4</td>\n",
       "      <td>24K-Gold</td>\n",
       "      <td>hybrid</td>\n",
       "      <td>Happy,Relaxed,Euphoric,Uplifted,Talkative</td>\n",
       "      <td>Citrus,Earthy,Orange</td>\n",
       "      <td>Also known as Kosher Tangie, 24k Gold is a 60%...</td>\n",
       "      <td>NaN</td>\n",
       "      <td>NaN</td>\n",
       "      <td>24K-Gold hybrid Happy,Relaxed,Euphoric,Uplifte...</td>\n",
       "      <td>24k gold hybrid Happy Relaxed Euphoric Uplifte...</td>\n",
       "    </tr>\n",
       "  </tbody>\n",
       "</table>\n",
       "</div>"
      ],
      "text/plain": [
       "   index          Strain    Type                                     Effects  \\\n",
       "0      0          100-Og  hybrid  Creative,Energetic,Tingly,Euphoric,Relaxed   \n",
       "1      1  98-White-Widow  hybrid    Relaxed,Aroused,Creative,Happy,Energetic   \n",
       "2      2            1024  sativa   Uplifted,Happy,Relaxed,Energetic,Creative   \n",
       "3      3        13-Dawgs  hybrid     Tingly,Creative,Hungry,Relaxed,Uplifted   \n",
       "4      4        24K-Gold  hybrid   Happy,Relaxed,Euphoric,Uplifted,Talkative   \n",
       "\n",
       "                      Flavor  \\\n",
       "0        Earthy,Sweet,Citrus   \n",
       "1      Flowery,Violet,Diesel   \n",
       "2    Spicy/Herbal,Sage,Woody   \n",
       "3  Apricot,Citrus,Grapefruit   \n",
       "4       Citrus,Earthy,Orange   \n",
       "\n",
       "                                         Description  name  \\\n",
       "0  $100 OG is a 50/50 hybrid strain that packs a ...   NaN   \n",
       "1  The ‘98 Aloha White Widow is an especially pot...   NaN   \n",
       "2  1024 is a sativa-dominant hybrid bred in Spain...  1024   \n",
       "3  13 Dawgs is a hybrid of G13 and Chemdawg genet...   NaN   \n",
       "4  Also known as Kosher Tangie, 24k Gold is a 60%...   NaN   \n",
       "\n",
       "                                  ailment  \\\n",
       "0                                     NaN   \n",
       "1                                     NaN   \n",
       "2  Stress, Pain, Depression, Inflammation   \n",
       "3                                     NaN   \n",
       "4                                     NaN   \n",
       "\n",
       "                                            all_text  \\\n",
       "0  100-Og hybrid Creative,Energetic,Tingly,Euphor...   \n",
       "1  98-White-Widow hybrid Relaxed,Aroused,Creative...   \n",
       "2  1024 sativa Uplifted,Happy,Relaxed,Energetic,C...   \n",
       "3  13-Dawgs hybrid Tingly,Creative,Hungry,Relaxed...   \n",
       "4  24K-Gold hybrid Happy,Relaxed,Euphoric,Uplifte...   \n",
       "\n",
       "                                              lemmas  \n",
       "0  100-Og hybrid Creative energetic Tingly Euphor...  \n",
       "1  98-white widow hybrid Relaxed arouse Creative ...  \n",
       "2  1024 sativa Uplifted happy relaxed energetic C...  \n",
       "3  13-dawgs hybrid Tingly creative hungry Relaxed...  \n",
       "4  24k gold hybrid Happy Relaxed Euphoric Uplifte...  "
      ]
     },
     "execution_count": 47,
     "metadata": {},
     "output_type": "execute_result"
    }
   ],
   "source": [
    "df.head()"
   ]
  },
  {
   "cell_type": "markdown",
   "metadata": {},
   "source": [
    "## Vectorizing Words with TF/IDF Vectorizer to Create Document Term Matrix (DTM)"
   ]
  },
  {
   "cell_type": "code",
   "execution_count": 48,
   "metadata": {},
   "outputs": [],
   "source": [
    "# Instantiating TfidfVectorizer\n",
    "\n",
    "tfidf = TfidfVectorizer(max_features=500)"
   ]
  },
  {
   "cell_type": "code",
   "execution_count": 49,
   "metadata": {},
   "outputs": [],
   "source": [
    "# Creating DTM\n",
    "\n",
    "dtm = tfidf.fit_transform(df['lemmas'])"
   ]
  },
  {
   "cell_type": "code",
   "execution_count": 50,
   "metadata": {},
   "outputs": [],
   "source": [
    "# Loading DTM to DataFrame\n",
    "\n",
    "dtm = pd.DataFrame(dtm.todense(), columns=tfidf.get_feature_names())"
   ]
  },
  {
   "cell_type": "code",
   "execution_count": 51,
   "metadata": {},
   "outputs": [
    {
     "data": {
      "text/html": [
       "<div>\n",
       "<style scoped>\n",
       "    .dataframe tbody tr th:only-of-type {\n",
       "        vertical-align: middle;\n",
       "    }\n",
       "\n",
       "    .dataframe tbody tr th {\n",
       "        vertical-align: top;\n",
       "    }\n",
       "\n",
       "    .dataframe thead th {\n",
       "        text-align: right;\n",
       "    }\n",
       "</style>\n",
       "<table border=\"1\" class=\"dataframe\">\n",
       "  <thead>\n",
       "    <tr style=\"text-align: right;\">\n",
       "      <th></th>\n",
       "      <th>10</th>\n",
       "      <th>11</th>\n",
       "      <th>1st</th>\n",
       "      <th>20</th>\n",
       "      <th>2014</th>\n",
       "      <th>47</th>\n",
       "      <th>50</th>\n",
       "      <th>60</th>\n",
       "      <th>70</th>\n",
       "      <th>80</th>\n",
       "      <th>...</th>\n",
       "      <th>west</th>\n",
       "      <th>white</th>\n",
       "      <th>widow</th>\n",
       "      <th>win</th>\n",
       "      <th>wonder</th>\n",
       "      <th>woody</th>\n",
       "      <th>work</th>\n",
       "      <th>world</th>\n",
       "      <th>wreck</th>\n",
       "      <th>yield</th>\n",
       "    </tr>\n",
       "  </thead>\n",
       "  <tbody>\n",
       "    <tr>\n",
       "      <th>0</th>\n",
       "      <td>0.0</td>\n",
       "      <td>0.0</td>\n",
       "      <td>0.000000</td>\n",
       "      <td>0.0</td>\n",
       "      <td>0.0</td>\n",
       "      <td>0.0</td>\n",
       "      <td>0.43701</td>\n",
       "      <td>0.00000</td>\n",
       "      <td>0.0</td>\n",
       "      <td>0.0</td>\n",
       "      <td>...</td>\n",
       "      <td>0.0</td>\n",
       "      <td>0.00000</td>\n",
       "      <td>0.000000</td>\n",
       "      <td>0.0</td>\n",
       "      <td>0.0</td>\n",
       "      <td>0.000000</td>\n",
       "      <td>0.0</td>\n",
       "      <td>0.0</td>\n",
       "      <td>0.0</td>\n",
       "      <td>0.0</td>\n",
       "    </tr>\n",
       "    <tr>\n",
       "      <th>1</th>\n",
       "      <td>0.0</td>\n",
       "      <td>0.0</td>\n",
       "      <td>0.119256</td>\n",
       "      <td>0.0</td>\n",
       "      <td>0.0</td>\n",
       "      <td>0.0</td>\n",
       "      <td>0.00000</td>\n",
       "      <td>0.00000</td>\n",
       "      <td>0.0</td>\n",
       "      <td>0.0</td>\n",
       "      <td>...</td>\n",
       "      <td>0.0</td>\n",
       "      <td>0.42906</td>\n",
       "      <td>0.546006</td>\n",
       "      <td>0.0</td>\n",
       "      <td>0.0</td>\n",
       "      <td>0.000000</td>\n",
       "      <td>0.0</td>\n",
       "      <td>0.0</td>\n",
       "      <td>0.0</td>\n",
       "      <td>0.0</td>\n",
       "    </tr>\n",
       "    <tr>\n",
       "      <th>2</th>\n",
       "      <td>0.0</td>\n",
       "      <td>0.0</td>\n",
       "      <td>0.000000</td>\n",
       "      <td>0.0</td>\n",
       "      <td>0.0</td>\n",
       "      <td>0.0</td>\n",
       "      <td>0.00000</td>\n",
       "      <td>0.00000</td>\n",
       "      <td>0.0</td>\n",
       "      <td>0.0</td>\n",
       "      <td>...</td>\n",
       "      <td>0.0</td>\n",
       "      <td>0.00000</td>\n",
       "      <td>0.000000</td>\n",
       "      <td>0.0</td>\n",
       "      <td>0.0</td>\n",
       "      <td>0.143672</td>\n",
       "      <td>0.0</td>\n",
       "      <td>0.0</td>\n",
       "      <td>0.0</td>\n",
       "      <td>0.0</td>\n",
       "    </tr>\n",
       "    <tr>\n",
       "      <th>3</th>\n",
       "      <td>0.0</td>\n",
       "      <td>0.0</td>\n",
       "      <td>0.000000</td>\n",
       "      <td>0.0</td>\n",
       "      <td>0.0</td>\n",
       "      <td>0.0</td>\n",
       "      <td>0.00000</td>\n",
       "      <td>0.00000</td>\n",
       "      <td>0.0</td>\n",
       "      <td>0.0</td>\n",
       "      <td>...</td>\n",
       "      <td>0.0</td>\n",
       "      <td>0.00000</td>\n",
       "      <td>0.000000</td>\n",
       "      <td>0.0</td>\n",
       "      <td>0.0</td>\n",
       "      <td>0.167912</td>\n",
       "      <td>0.0</td>\n",
       "      <td>0.0</td>\n",
       "      <td>0.0</td>\n",
       "      <td>0.0</td>\n",
       "    </tr>\n",
       "    <tr>\n",
       "      <th>4</th>\n",
       "      <td>0.0</td>\n",
       "      <td>0.0</td>\n",
       "      <td>0.000000</td>\n",
       "      <td>0.0</td>\n",
       "      <td>0.0</td>\n",
       "      <td>0.0</td>\n",
       "      <td>0.00000</td>\n",
       "      <td>0.13948</td>\n",
       "      <td>0.0</td>\n",
       "      <td>0.0</td>\n",
       "      <td>...</td>\n",
       "      <td>0.0</td>\n",
       "      <td>0.00000</td>\n",
       "      <td>0.000000</td>\n",
       "      <td>0.0</td>\n",
       "      <td>0.0</td>\n",
       "      <td>0.000000</td>\n",
       "      <td>0.0</td>\n",
       "      <td>0.0</td>\n",
       "      <td>0.0</td>\n",
       "      <td>0.0</td>\n",
       "    </tr>\n",
       "  </tbody>\n",
       "</table>\n",
       "<p>5 rows × 500 columns</p>\n",
       "</div>"
      ],
      "text/plain": [
       "    10   11       1st   20  2014   47       50       60   70   80  ...  west  \\\n",
       "0  0.0  0.0  0.000000  0.0   0.0  0.0  0.43701  0.00000  0.0  0.0  ...   0.0   \n",
       "1  0.0  0.0  0.119256  0.0   0.0  0.0  0.00000  0.00000  0.0  0.0  ...   0.0   \n",
       "2  0.0  0.0  0.000000  0.0   0.0  0.0  0.00000  0.00000  0.0  0.0  ...   0.0   \n",
       "3  0.0  0.0  0.000000  0.0   0.0  0.0  0.00000  0.00000  0.0  0.0  ...   0.0   \n",
       "4  0.0  0.0  0.000000  0.0   0.0  0.0  0.00000  0.13948  0.0  0.0  ...   0.0   \n",
       "\n",
       "     white     widow  win  wonder     woody  work  world  wreck  yield  \n",
       "0  0.00000  0.000000  0.0     0.0  0.000000   0.0    0.0    0.0    0.0  \n",
       "1  0.42906  0.546006  0.0     0.0  0.000000   0.0    0.0    0.0    0.0  \n",
       "2  0.00000  0.000000  0.0     0.0  0.143672   0.0    0.0    0.0    0.0  \n",
       "3  0.00000  0.000000  0.0     0.0  0.167912   0.0    0.0    0.0    0.0  \n",
       "4  0.00000  0.000000  0.0     0.0  0.000000   0.0    0.0    0.0    0.0  \n",
       "\n",
       "[5 rows x 500 columns]"
      ]
     },
     "execution_count": 51,
     "metadata": {},
     "output_type": "execute_result"
    }
   ],
   "source": [
    "dtm.head()"
   ]
  },
  {
   "cell_type": "code",
   "execution_count": 52,
   "metadata": {},
   "outputs": [
    {
     "data": {
      "text/plain": [
       "(2280, 500)"
      ]
     },
     "execution_count": 52,
     "metadata": {},
     "output_type": "execute_result"
    }
   ],
   "source": [
    "dtm.shape"
   ]
  },
  {
   "cell_type": "markdown",
   "metadata": {},
   "source": [
    "## Applying Cosine Similarity"
   ]
  },
  {
   "cell_type": "code",
   "execution_count": 53,
   "metadata": {},
   "outputs": [],
   "source": [
    "# Calculating distance of vectors\n",
    "\n",
    "from sklearn.metrics.pairwise import cosine_similarity\n",
    "\n",
    "dist_matrix  = cosine_similarity(dtm)"
   ]
  },
  {
   "cell_type": "code",
   "execution_count": 54,
   "metadata": {},
   "outputs": [
    {
     "data": {
      "text/plain": [
       "(2280, 2280)"
      ]
     },
     "execution_count": 54,
     "metadata": {},
     "output_type": "execute_result"
    }
   ],
   "source": [
    "dist_matrix.shape"
   ]
  },
  {
   "cell_type": "code",
   "execution_count": 55,
   "metadata": {},
   "outputs": [
    {
     "data": {
      "text/plain": [
       "array([[1.        , 0.05662412, 0.10575905, ..., 0.03010507, 0.22571093,\n",
       "        0.03071383],\n",
       "       [0.05662412, 1.        , 0.07116044, ..., 0.08763689, 0.03961352,\n",
       "        0.0304609 ],\n",
       "       [0.10575905, 0.07116044, 1.        , ..., 0.12922749, 0.03859133,\n",
       "        0.05931638],\n",
       "       ...,\n",
       "       [0.03010507, 0.08763689, 0.12922749, ..., 1.        , 0.13990653,\n",
       "        0.05551409],\n",
       "       [0.22571093, 0.03961352, 0.03859133, ..., 0.13990653, 1.        ,\n",
       "        0.09627927],\n",
       "       [0.03071383, 0.0304609 , 0.05931638, ..., 0.05551409, 0.09627927,\n",
       "        1.        ]])"
      ]
     },
     "execution_count": 55,
     "metadata": {},
     "output_type": "execute_result"
    }
   ],
   "source": [
    "dist_matrix"
   ]
  },
  {
   "cell_type": "code",
   "execution_count": 56,
   "metadata": {},
   "outputs": [],
   "source": [
    "# Incorporating distance matrix into dataframe\n",
    "\n",
    "df_cos = pd.DataFrame(dist_matrix)"
   ]
  },
  {
   "cell_type": "code",
   "execution_count": 57,
   "metadata": {},
   "outputs": [
    {
     "data": {
      "text/html": [
       "<div>\n",
       "<style scoped>\n",
       "    .dataframe tbody tr th:only-of-type {\n",
       "        vertical-align: middle;\n",
       "    }\n",
       "\n",
       "    .dataframe tbody tr th {\n",
       "        vertical-align: top;\n",
       "    }\n",
       "\n",
       "    .dataframe thead th {\n",
       "        text-align: right;\n",
       "    }\n",
       "</style>\n",
       "<table border=\"1\" class=\"dataframe\">\n",
       "  <thead>\n",
       "    <tr style=\"text-align: right;\">\n",
       "      <th></th>\n",
       "      <th>0</th>\n",
       "      <th>1</th>\n",
       "      <th>2</th>\n",
       "      <th>3</th>\n",
       "      <th>4</th>\n",
       "      <th>5</th>\n",
       "      <th>6</th>\n",
       "      <th>7</th>\n",
       "      <th>8</th>\n",
       "      <th>9</th>\n",
       "      <th>...</th>\n",
       "      <th>2270</th>\n",
       "      <th>2271</th>\n",
       "      <th>2272</th>\n",
       "      <th>2273</th>\n",
       "      <th>2274</th>\n",
       "      <th>2275</th>\n",
       "      <th>2276</th>\n",
       "      <th>2277</th>\n",
       "      <th>2278</th>\n",
       "      <th>2279</th>\n",
       "    </tr>\n",
       "  </thead>\n",
       "  <tbody>\n",
       "    <tr>\n",
       "      <th>0</th>\n",
       "      <td>1.000000</td>\n",
       "      <td>0.056624</td>\n",
       "      <td>0.105759</td>\n",
       "      <td>0.165992</td>\n",
       "      <td>0.148234</td>\n",
       "      <td>0.288633</td>\n",
       "      <td>0.147178</td>\n",
       "      <td>0.161991</td>\n",
       "      <td>0.045953</td>\n",
       "      <td>0.149626</td>\n",
       "      <td>...</td>\n",
       "      <td>0.163225</td>\n",
       "      <td>0.089530</td>\n",
       "      <td>0.117239</td>\n",
       "      <td>0.093680</td>\n",
       "      <td>0.067265</td>\n",
       "      <td>0.311008</td>\n",
       "      <td>0.093477</td>\n",
       "      <td>0.030105</td>\n",
       "      <td>0.225711</td>\n",
       "      <td>0.030714</td>\n",
       "    </tr>\n",
       "    <tr>\n",
       "      <th>1</th>\n",
       "      <td>0.056624</td>\n",
       "      <td>1.000000</td>\n",
       "      <td>0.071160</td>\n",
       "      <td>0.070885</td>\n",
       "      <td>0.088638</td>\n",
       "      <td>0.024583</td>\n",
       "      <td>0.073783</td>\n",
       "      <td>0.117855</td>\n",
       "      <td>0.040816</td>\n",
       "      <td>0.023040</td>\n",
       "      <td>...</td>\n",
       "      <td>0.113528</td>\n",
       "      <td>0.045887</td>\n",
       "      <td>0.011955</td>\n",
       "      <td>0.041245</td>\n",
       "      <td>0.031692</td>\n",
       "      <td>0.023827</td>\n",
       "      <td>0.049292</td>\n",
       "      <td>0.087637</td>\n",
       "      <td>0.039614</td>\n",
       "      <td>0.030461</td>\n",
       "    </tr>\n",
       "    <tr>\n",
       "      <th>2</th>\n",
       "      <td>0.105759</td>\n",
       "      <td>0.071160</td>\n",
       "      <td>1.000000</td>\n",
       "      <td>0.235975</td>\n",
       "      <td>0.080283</td>\n",
       "      <td>0.018719</td>\n",
       "      <td>0.205385</td>\n",
       "      <td>0.085460</td>\n",
       "      <td>0.163001</td>\n",
       "      <td>0.094368</td>\n",
       "      <td>...</td>\n",
       "      <td>0.138462</td>\n",
       "      <td>0.124053</td>\n",
       "      <td>0.171028</td>\n",
       "      <td>0.164401</td>\n",
       "      <td>0.307120</td>\n",
       "      <td>0.123086</td>\n",
       "      <td>0.165001</td>\n",
       "      <td>0.129227</td>\n",
       "      <td>0.038591</td>\n",
       "      <td>0.059316</td>\n",
       "    </tr>\n",
       "    <tr>\n",
       "      <th>3</th>\n",
       "      <td>0.165992</td>\n",
       "      <td>0.070885</td>\n",
       "      <td>0.235975</td>\n",
       "      <td>1.000000</td>\n",
       "      <td>0.110496</td>\n",
       "      <td>0.106293</td>\n",
       "      <td>0.111014</td>\n",
       "      <td>0.224242</td>\n",
       "      <td>0.206070</td>\n",
       "      <td>0.148101</td>\n",
       "      <td>...</td>\n",
       "      <td>0.203264</td>\n",
       "      <td>0.155834</td>\n",
       "      <td>0.144307</td>\n",
       "      <td>0.170092</td>\n",
       "      <td>0.110797</td>\n",
       "      <td>0.112823</td>\n",
       "      <td>0.214803</td>\n",
       "      <td>0.094309</td>\n",
       "      <td>0.087834</td>\n",
       "      <td>0.137989</td>\n",
       "    </tr>\n",
       "    <tr>\n",
       "      <th>4</th>\n",
       "      <td>0.148234</td>\n",
       "      <td>0.088638</td>\n",
       "      <td>0.080283</td>\n",
       "      <td>0.110496</td>\n",
       "      <td>1.000000</td>\n",
       "      <td>0.074858</td>\n",
       "      <td>0.064990</td>\n",
       "      <td>0.065820</td>\n",
       "      <td>0.082988</td>\n",
       "      <td>0.103058</td>\n",
       "      <td>...</td>\n",
       "      <td>0.086995</td>\n",
       "      <td>0.113628</td>\n",
       "      <td>0.077833</td>\n",
       "      <td>0.092577</td>\n",
       "      <td>0.051688</td>\n",
       "      <td>0.041197</td>\n",
       "      <td>0.047969</td>\n",
       "      <td>0.170361</td>\n",
       "      <td>0.057181</td>\n",
       "      <td>0.038856</td>\n",
       "    </tr>\n",
       "  </tbody>\n",
       "</table>\n",
       "<p>5 rows × 2280 columns</p>\n",
       "</div>"
      ],
      "text/plain": [
       "       0         1         2         3         4         5         6     \\\n",
       "0  1.000000  0.056624  0.105759  0.165992  0.148234  0.288633  0.147178   \n",
       "1  0.056624  1.000000  0.071160  0.070885  0.088638  0.024583  0.073783   \n",
       "2  0.105759  0.071160  1.000000  0.235975  0.080283  0.018719  0.205385   \n",
       "3  0.165992  0.070885  0.235975  1.000000  0.110496  0.106293  0.111014   \n",
       "4  0.148234  0.088638  0.080283  0.110496  1.000000  0.074858  0.064990   \n",
       "\n",
       "       7         8         9     ...      2270      2271      2272      2273  \\\n",
       "0  0.161991  0.045953  0.149626  ...  0.163225  0.089530  0.117239  0.093680   \n",
       "1  0.117855  0.040816  0.023040  ...  0.113528  0.045887  0.011955  0.041245   \n",
       "2  0.085460  0.163001  0.094368  ...  0.138462  0.124053  0.171028  0.164401   \n",
       "3  0.224242  0.206070  0.148101  ...  0.203264  0.155834  0.144307  0.170092   \n",
       "4  0.065820  0.082988  0.103058  ...  0.086995  0.113628  0.077833  0.092577   \n",
       "\n",
       "       2274      2275      2276      2277      2278      2279  \n",
       "0  0.067265  0.311008  0.093477  0.030105  0.225711  0.030714  \n",
       "1  0.031692  0.023827  0.049292  0.087637  0.039614  0.030461  \n",
       "2  0.307120  0.123086  0.165001  0.129227  0.038591  0.059316  \n",
       "3  0.110797  0.112823  0.214803  0.094309  0.087834  0.137989  \n",
       "4  0.051688  0.041197  0.047969  0.170361  0.057181  0.038856  \n",
       "\n",
       "[5 rows x 2280 columns]"
      ]
     },
     "execution_count": 57,
     "metadata": {},
     "output_type": "execute_result"
    }
   ],
   "source": [
    "df_cos.head()"
   ]
  },
  {
   "cell_type": "code",
   "execution_count": 58,
   "metadata": {},
   "outputs": [
    {
     "data": {
      "text/plain": [
       "(2280, 2280)"
      ]
     },
     "execution_count": 58,
     "metadata": {},
     "output_type": "execute_result"
    }
   ],
   "source": [
    "df_cos.shape"
   ]
  },
  {
   "cell_type": "code",
   "execution_count": 59,
   "metadata": {},
   "outputs": [
    {
     "data": {
      "text/plain": [
       "'100-Og hybrid Creative energetic Tingly Euphoric Relaxed Earthy Sweet Citrus $ 100 og 50/50 hybrid strain pack strong punch supposedly refer strength high price start show Hollywood plant $ 100 og tend produce large dark green bud stem user report strong body effect indica pain relief alert cerebral feeling thank sativa  '"
      ]
     },
     "execution_count": 59,
     "metadata": {},
     "output_type": "execute_result"
    }
   ],
   "source": [
    "df.lemmas[0]"
   ]
  },
  {
   "cell_type": "code",
   "execution_count": 207,
   "metadata": {},
   "outputs": [
    {
     "data": {
      "text/plain": [
       "0       1.000000\n",
       "1       0.056624\n",
       "2       0.105759\n",
       "3       0.165992\n",
       "5       0.288633\n",
       "          ...   \n",
       "2275    0.311008\n",
       "2276    0.093477\n",
       "2277    0.030105\n",
       "2278    0.225711\n",
       "2279    0.030714\n",
       "Name: 0, Length: 2279, dtype: float64"
      ]
     },
     "execution_count": 207,
     "metadata": {},
     "output_type": "execute_result"
    }
   ],
   "source": [
    "df_cos[df_cos[4]<1][0]\n",
    "\n",
    "# .sort_values(ascending=False)"
   ]
  },
  {
   "cell_type": "code",
   "execution_count": 203,
   "metadata": {},
   "outputs": [
    {
     "data": {
      "text/plain": [
       "2137    0.487445\n",
       "670     0.458379\n",
       "1384    0.445955\n",
       "1837    0.429331\n",
       "1361    0.398407\n",
       "Name: 0, dtype: float64"
      ]
     },
     "execution_count": 203,
     "metadata": {},
     "output_type": "execute_result"
    }
   ],
   "source": [
    "df_cos[df_cos[4] < 1 ][0].sort_values(ascending=False)[1:6]"
   ]
  },
  {
   "cell_type": "code",
   "execution_count": 148,
   "metadata": {},
   "outputs": [
    {
     "data": {
      "text/plain": [
       "1    0.056624\n",
       "2    0.105759\n",
       "3    0.165992\n",
       "4    0.148234\n",
       "5    0.288633\n",
       "Name: 0, dtype: float64"
      ]
     },
     "execution_count": 148,
     "metadata": {},
     "output_type": "execute_result"
    }
   ],
   "source": [
    "# Top 5 Similar Strains\n",
    "\n",
    "df_cos[0][1:6]"
   ]
  },
  {
   "cell_type": "code",
   "execution_count": 149,
   "metadata": {},
   "outputs": [],
   "source": [
    "# Top 5 similar strains to strain index_no. 0 (100-OG)\n",
    "\n",
    "OG100_top_5 = df_cos[df_cos[0] < 1][0].sort_values(ascending=False)[:5]"
   ]
  },
  {
   "cell_type": "code",
   "execution_count": 150,
   "metadata": {},
   "outputs": [
    {
     "data": {
      "text/plain": [
       "2137    0.487445\n",
       "670     0.458379\n",
       "1384    0.445955\n",
       "1837    0.429331\n",
       "1361    0.398407\n",
       "Name: 0, dtype: float64"
      ]
     },
     "execution_count": 150,
     "metadata": {},
     "output_type": "execute_result"
    }
   ],
   "source": [
    "OG100_top_5"
   ]
  },
  {
   "cell_type": "code",
   "execution_count": 121,
   "metadata": {},
   "outputs": [
    {
     "data": {
      "text/plain": [
       "pandas.core.series.Series"
      ]
     },
     "execution_count": 121,
     "metadata": {},
     "output_type": "execute_result"
    }
   ],
   "source": [
    "type(OG100_top_5)"
   ]
  },
  {
   "cell_type": "code",
   "execution_count": 171,
   "metadata": {},
   "outputs": [],
   "source": [
    "# Converting to dict\n",
    "\n",
    "OG100_top_5 = dict(OG100_top_5)"
   ]
  },
  {
   "cell_type": "code",
   "execution_count": 172,
   "metadata": {},
   "outputs": [
    {
     "data": {
      "text/plain": [
       "dict"
      ]
     },
     "execution_count": 172,
     "metadata": {},
     "output_type": "execute_result"
    }
   ],
   "source": [
    "type(OG100_top_5)"
   ]
  },
  {
   "cell_type": "code",
   "execution_count": 173,
   "metadata": {},
   "outputs": [
    {
     "data": {
      "text/plain": [
       "{2137: 0.4874450768727173,\n",
       " 670: 0.45837886308913506,\n",
       " 1384: 0.445954630280887,\n",
       " 1837: 0.42933082079619833,\n",
       " 1361: 0.3984066125237562}"
      ]
     },
     "execution_count": 173,
     "metadata": {},
     "output_type": "execute_result"
    }
   ],
   "source": [
    "OG100_top_5"
   ]
  },
  {
   "cell_type": "code",
   "execution_count": 176,
   "metadata": {},
   "outputs": [
    {
     "data": {
      "text/plain": [
       "{2137: 0.4874450768727173,\n",
       " 670: 0.45837886308913506,\n",
       " 1384: 0.445954630280887,\n",
       " 1837: 0.42933082079619833,\n",
       " 1361: 0.3984066125237562}"
      ]
     },
     "execution_count": 176,
     "metadata": {},
     "output_type": "execute_result"
    }
   ],
   "source": [
    "OG100_top_5"
   ]
  },
  {
   "cell_type": "code",
   "execution_count": 193,
   "metadata": {},
   "outputs": [
    {
     "data": {
      "text/plain": [
       "dict_keys([2137, 670, 1384, 1837, 1361])"
      ]
     },
     "execution_count": 193,
     "metadata": {},
     "output_type": "execute_result"
    }
   ],
   "source": [
    "OG100_top_5.keys()"
   ]
  },
  {
   "cell_type": "code",
   "execution_count": 124,
   "metadata": {},
   "outputs": [
    {
     "data": {
      "text/html": [
       "<div>\n",
       "<style scoped>\n",
       "    .dataframe tbody tr th:only-of-type {\n",
       "        vertical-align: middle;\n",
       "    }\n",
       "\n",
       "    .dataframe tbody tr th {\n",
       "        vertical-align: top;\n",
       "    }\n",
       "\n",
       "    .dataframe thead th {\n",
       "        text-align: right;\n",
       "    }\n",
       "</style>\n",
       "<table border=\"1\" class=\"dataframe\">\n",
       "  <thead>\n",
       "    <tr style=\"text-align: right;\">\n",
       "      <th></th>\n",
       "      <th>Strain</th>\n",
       "      <th>Type</th>\n",
       "      <th>Effects</th>\n",
       "      <th>Flavor</th>\n",
       "      <th>Description</th>\n",
       "    </tr>\n",
       "  </thead>\n",
       "  <tbody>\n",
       "    <tr>\n",
       "      <th>2137</th>\n",
       "      <td>Tuna-Og</td>\n",
       "      <td>hybrid</td>\n",
       "      <td>None</td>\n",
       "      <td>None</td>\n",
       "      <td>Tuna OG (or OG Tuna Kush) is a 50/50 hybrid cr...</td>\n",
       "    </tr>\n",
       "    <tr>\n",
       "      <th>670</th>\n",
       "      <td>Donna-Og</td>\n",
       "      <td>hybrid</td>\n",
       "      <td>Creative,Euphoric,Relaxed,Happy,Hungry</td>\n",
       "      <td>Citrus,Pungent,Sweet</td>\n",
       "      <td>Donna OG is a 50/50 hybrid cross between two O...</td>\n",
       "    </tr>\n",
       "    <tr>\n",
       "      <th>1384</th>\n",
       "      <td>Monster-Og</td>\n",
       "      <td>hybrid</td>\n",
       "      <td>Hungry,Relaxed,Happy,Tingly,Sleepy</td>\n",
       "      <td>Woody,Spicy/Herbal,Earthy</td>\n",
       "      <td>Monster OG from The Green Element is a hybrid ...</td>\n",
       "    </tr>\n",
       "    <tr>\n",
       "      <th>1837</th>\n",
       "      <td>Skywalker-Og</td>\n",
       "      <td>hybrid</td>\n",
       "      <td>Relaxed,Euphoric,Happy,Uplifted,Sleepy</td>\n",
       "      <td>Earthy,Pungent,Sweet</td>\n",
       "      <td>Skywalker OG is a potent indica-dominant hybri...</td>\n",
       "    </tr>\n",
       "    <tr>\n",
       "      <th>1361</th>\n",
       "      <td>Merlot-Og</td>\n",
       "      <td>indica</td>\n",
       "      <td>Relaxed,Happy,Uplifted,Euphoric,Tingly</td>\n",
       "      <td>Butter,Flowery,Earthy</td>\n",
       "      <td>SoCal cannabis breeders Ocean Grown Seeds orig...</td>\n",
       "    </tr>\n",
       "  </tbody>\n",
       "</table>\n",
       "</div>"
      ],
      "text/plain": [
       "            Strain    Type                                 Effects  \\\n",
       "2137       Tuna-Og  hybrid                                    None   \n",
       "670       Donna-Og  hybrid  Creative,Euphoric,Relaxed,Happy,Hungry   \n",
       "1384    Monster-Og  hybrid      Hungry,Relaxed,Happy,Tingly,Sleepy   \n",
       "1837  Skywalker-Og  hybrid  Relaxed,Euphoric,Happy,Uplifted,Sleepy   \n",
       "1361     Merlot-Og  indica  Relaxed,Happy,Uplifted,Euphoric,Tingly   \n",
       "\n",
       "                         Flavor  \\\n",
       "2137                       None   \n",
       "670        Citrus,Pungent,Sweet   \n",
       "1384  Woody,Spicy/Herbal,Earthy   \n",
       "1837       Earthy,Pungent,Sweet   \n",
       "1361      Butter,Flowery,Earthy   \n",
       "\n",
       "                                            Description  \n",
       "2137  Tuna OG (or OG Tuna Kush) is a 50/50 hybrid cr...  \n",
       "670   Donna OG is a 50/50 hybrid cross between two O...  \n",
       "1384  Monster OG from The Green Element is a hybrid ...  \n",
       "1837  Skywalker OG is a potent indica-dominant hybri...  \n",
       "1361  SoCal cannabis breeders Ocean Grown Seeds orig...  "
      ]
     },
     "execution_count": 124,
     "metadata": {},
     "output_type": "execute_result"
    }
   ],
   "source": [
    "# Top 5 indexes in DataFrame\n",
    "\n",
    "df.iloc[[i for i in OG100_top_5], 1:6]"
   ]
  },
  {
   "cell_type": "markdown",
   "metadata": {},
   "source": [
    "## Creating Function to Calculate Closest Related Strains to Each Corresponding Strain"
   ]
  },
  {
   "cell_type": "code",
   "execution_count": 167,
   "metadata": {},
   "outputs": [],
   "source": [
    "# Creating Lookup Table DataFrame\n",
    "\n",
    "df_names = df[['index', 'Strain']]"
   ]
  },
  {
   "cell_type": "code",
   "execution_count": 168,
   "metadata": {},
   "outputs": [
    {
     "data": {
      "text/html": [
       "<div>\n",
       "<style scoped>\n",
       "    .dataframe tbody tr th:only-of-type {\n",
       "        vertical-align: middle;\n",
       "    }\n",
       "\n",
       "    .dataframe tbody tr th {\n",
       "        vertical-align: top;\n",
       "    }\n",
       "\n",
       "    .dataframe thead th {\n",
       "        text-align: right;\n",
       "    }\n",
       "</style>\n",
       "<table border=\"1\" class=\"dataframe\">\n",
       "  <thead>\n",
       "    <tr style=\"text-align: right;\">\n",
       "      <th></th>\n",
       "      <th>index</th>\n",
       "      <th>Strain</th>\n",
       "    </tr>\n",
       "  </thead>\n",
       "  <tbody>\n",
       "    <tr>\n",
       "      <th>0</th>\n",
       "      <td>0</td>\n",
       "      <td>100-Og</td>\n",
       "    </tr>\n",
       "    <tr>\n",
       "      <th>1</th>\n",
       "      <td>1</td>\n",
       "      <td>98-White-Widow</td>\n",
       "    </tr>\n",
       "    <tr>\n",
       "      <th>2</th>\n",
       "      <td>2</td>\n",
       "      <td>1024</td>\n",
       "    </tr>\n",
       "    <tr>\n",
       "      <th>3</th>\n",
       "      <td>3</td>\n",
       "      <td>13-Dawgs</td>\n",
       "    </tr>\n",
       "    <tr>\n",
       "      <th>4</th>\n",
       "      <td>4</td>\n",
       "      <td>24K-Gold</td>\n",
       "    </tr>\n",
       "  </tbody>\n",
       "</table>\n",
       "</div>"
      ],
      "text/plain": [
       "   index          Strain\n",
       "0      0          100-Og\n",
       "1      1  98-White-Widow\n",
       "2      2            1024\n",
       "3      3        13-Dawgs\n",
       "4      4        24K-Gold"
      ]
     },
     "execution_count": 168,
     "metadata": {},
     "output_type": "execute_result"
    }
   ],
   "source": [
    "df_names.head()"
   ]
  },
  {
   "cell_type": "code",
   "execution_count": 208,
   "metadata": {},
   "outputs": [],
   "source": [
    "def cos_sim(x):\n",
    "    \"\"\"Returns top 5 similar strain indexes corresponding to input index\"\"\"\n",
    "    top_5 = dict(df_cos[df_cos[x] < 1][x].sort_values(ascending=False)[:5])\n",
    "    \n",
    "    return top_5.keys()\n"
   ]
  },
  {
   "cell_type": "markdown",
   "metadata": {},
   "source": [
    "## Creating New Column in DataFrame for Strains with High Cosine Similarities"
   ]
  },
  {
   "cell_type": "code",
   "execution_count": 209,
   "metadata": {},
   "outputs": [],
   "source": [
    "df_strains = df.copy()"
   ]
  },
  {
   "cell_type": "code",
   "execution_count": 210,
   "metadata": {},
   "outputs": [
    {
     "data": {
      "text/html": [
       "<div>\n",
       "<style scoped>\n",
       "    .dataframe tbody tr th:only-of-type {\n",
       "        vertical-align: middle;\n",
       "    }\n",
       "\n",
       "    .dataframe tbody tr th {\n",
       "        vertical-align: top;\n",
       "    }\n",
       "\n",
       "    .dataframe thead th {\n",
       "        text-align: right;\n",
       "    }\n",
       "</style>\n",
       "<table border=\"1\" class=\"dataframe\">\n",
       "  <thead>\n",
       "    <tr style=\"text-align: right;\">\n",
       "      <th></th>\n",
       "      <th>index</th>\n",
       "      <th>Strain</th>\n",
       "      <th>Type</th>\n",
       "      <th>Effects</th>\n",
       "      <th>Flavor</th>\n",
       "      <th>Description</th>\n",
       "      <th>name</th>\n",
       "      <th>ailment</th>\n",
       "      <th>all_text</th>\n",
       "      <th>lemmas</th>\n",
       "    </tr>\n",
       "  </thead>\n",
       "  <tbody>\n",
       "    <tr>\n",
       "      <th>0</th>\n",
       "      <td>0</td>\n",
       "      <td>100-Og</td>\n",
       "      <td>hybrid</td>\n",
       "      <td>Creative,Energetic,Tingly,Euphoric,Relaxed</td>\n",
       "      <td>Earthy,Sweet,Citrus</td>\n",
       "      <td>$100 OG is a 50/50 hybrid strain that packs a ...</td>\n",
       "      <td>NaN</td>\n",
       "      <td>NaN</td>\n",
       "      <td>100-Og hybrid Creative,Energetic,Tingly,Euphor...</td>\n",
       "      <td>100-Og hybrid Creative energetic Tingly Euphor...</td>\n",
       "    </tr>\n",
       "    <tr>\n",
       "      <th>1</th>\n",
       "      <td>1</td>\n",
       "      <td>98-White-Widow</td>\n",
       "      <td>hybrid</td>\n",
       "      <td>Relaxed,Aroused,Creative,Happy,Energetic</td>\n",
       "      <td>Flowery,Violet,Diesel</td>\n",
       "      <td>The ‘98 Aloha White Widow is an especially pot...</td>\n",
       "      <td>NaN</td>\n",
       "      <td>NaN</td>\n",
       "      <td>98-White-Widow hybrid Relaxed,Aroused,Creative...</td>\n",
       "      <td>98-white widow hybrid Relaxed arouse Creative ...</td>\n",
       "    </tr>\n",
       "    <tr>\n",
       "      <th>2</th>\n",
       "      <td>2</td>\n",
       "      <td>1024</td>\n",
       "      <td>sativa</td>\n",
       "      <td>Uplifted,Happy,Relaxed,Energetic,Creative</td>\n",
       "      <td>Spicy/Herbal,Sage,Woody</td>\n",
       "      <td>1024 is a sativa-dominant hybrid bred in Spain...</td>\n",
       "      <td>1024</td>\n",
       "      <td>Stress, Pain, Depression, Inflammation</td>\n",
       "      <td>1024 sativa Uplifted,Happy,Relaxed,Energetic,C...</td>\n",
       "      <td>1024 sativa Uplifted happy relaxed energetic C...</td>\n",
       "    </tr>\n",
       "    <tr>\n",
       "      <th>3</th>\n",
       "      <td>3</td>\n",
       "      <td>13-Dawgs</td>\n",
       "      <td>hybrid</td>\n",
       "      <td>Tingly,Creative,Hungry,Relaxed,Uplifted</td>\n",
       "      <td>Apricot,Citrus,Grapefruit</td>\n",
       "      <td>13 Dawgs is a hybrid of G13 and Chemdawg genet...</td>\n",
       "      <td>NaN</td>\n",
       "      <td>NaN</td>\n",
       "      <td>13-Dawgs hybrid Tingly,Creative,Hungry,Relaxed...</td>\n",
       "      <td>13-dawgs hybrid Tingly creative hungry Relaxed...</td>\n",
       "    </tr>\n",
       "    <tr>\n",
       "      <th>4</th>\n",
       "      <td>4</td>\n",
       "      <td>24K-Gold</td>\n",
       "      <td>hybrid</td>\n",
       "      <td>Happy,Relaxed,Euphoric,Uplifted,Talkative</td>\n",
       "      <td>Citrus,Earthy,Orange</td>\n",
       "      <td>Also known as Kosher Tangie, 24k Gold is a 60%...</td>\n",
       "      <td>NaN</td>\n",
       "      <td>NaN</td>\n",
       "      <td>24K-Gold hybrid Happy,Relaxed,Euphoric,Uplifte...</td>\n",
       "      <td>24k gold hybrid Happy Relaxed Euphoric Uplifte...</td>\n",
       "    </tr>\n",
       "  </tbody>\n",
       "</table>\n",
       "</div>"
      ],
      "text/plain": [
       "   index          Strain    Type                                     Effects  \\\n",
       "0      0          100-Og  hybrid  Creative,Energetic,Tingly,Euphoric,Relaxed   \n",
       "1      1  98-White-Widow  hybrid    Relaxed,Aroused,Creative,Happy,Energetic   \n",
       "2      2            1024  sativa   Uplifted,Happy,Relaxed,Energetic,Creative   \n",
       "3      3        13-Dawgs  hybrid     Tingly,Creative,Hungry,Relaxed,Uplifted   \n",
       "4      4        24K-Gold  hybrid   Happy,Relaxed,Euphoric,Uplifted,Talkative   \n",
       "\n",
       "                      Flavor  \\\n",
       "0        Earthy,Sweet,Citrus   \n",
       "1      Flowery,Violet,Diesel   \n",
       "2    Spicy/Herbal,Sage,Woody   \n",
       "3  Apricot,Citrus,Grapefruit   \n",
       "4       Citrus,Earthy,Orange   \n",
       "\n",
       "                                         Description  name  \\\n",
       "0  $100 OG is a 50/50 hybrid strain that packs a ...   NaN   \n",
       "1  The ‘98 Aloha White Widow is an especially pot...   NaN   \n",
       "2  1024 is a sativa-dominant hybrid bred in Spain...  1024   \n",
       "3  13 Dawgs is a hybrid of G13 and Chemdawg genet...   NaN   \n",
       "4  Also known as Kosher Tangie, 24k Gold is a 60%...   NaN   \n",
       "\n",
       "                                  ailment  \\\n",
       "0                                     NaN   \n",
       "1                                     NaN   \n",
       "2  Stress, Pain, Depression, Inflammation   \n",
       "3                                     NaN   \n",
       "4                                     NaN   \n",
       "\n",
       "                                            all_text  \\\n",
       "0  100-Og hybrid Creative,Energetic,Tingly,Euphor...   \n",
       "1  98-White-Widow hybrid Relaxed,Aroused,Creative...   \n",
       "2  1024 sativa Uplifted,Happy,Relaxed,Energetic,C...   \n",
       "3  13-Dawgs hybrid Tingly,Creative,Hungry,Relaxed...   \n",
       "4  24K-Gold hybrid Happy,Relaxed,Euphoric,Uplifte...   \n",
       "\n",
       "                                              lemmas  \n",
       "0  100-Og hybrid Creative energetic Tingly Euphor...  \n",
       "1  98-white widow hybrid Relaxed arouse Creative ...  \n",
       "2  1024 sativa Uplifted happy relaxed energetic C...  \n",
       "3  13-dawgs hybrid Tingly creative hungry Relaxed...  \n",
       "4  24k gold hybrid Happy Relaxed Euphoric Uplifte...  "
      ]
     },
     "execution_count": 210,
     "metadata": {},
     "output_type": "execute_result"
    }
   ],
   "source": [
    "df_strains.head()"
   ]
  },
  {
   "cell_type": "code",
   "execution_count": 211,
   "metadata": {},
   "outputs": [
    {
     "data": {
      "text/plain": [
       "Index(['index', 'Strain', 'Type', 'Effects', 'Flavor', 'Description', 'name',\n",
       "       'ailment', 'all_text', 'lemmas'],\n",
       "      dtype='object')"
      ]
     },
     "execution_count": 211,
     "metadata": {},
     "output_type": "execute_result"
    }
   ],
   "source": [
    "df_strains.columns"
   ]
  },
  {
   "cell_type": "code",
   "execution_count": null,
   "metadata": {},
   "outputs": [],
   "source": [
    "df_strains['Cos Sim Strains'] = [cos_sim(i) for i in df['index']]"
   ]
  },
  {
   "cell_type": "code",
   "execution_count": 192,
   "metadata": {},
   "outputs": [
    {
     "data": {
      "text/html": [
       "<div>\n",
       "<style scoped>\n",
       "    .dataframe tbody tr th:only-of-type {\n",
       "        vertical-align: middle;\n",
       "    }\n",
       "\n",
       "    .dataframe tbody tr th {\n",
       "        vertical-align: top;\n",
       "    }\n",
       "\n",
       "    .dataframe thead th {\n",
       "        text-align: right;\n",
       "    }\n",
       "</style>\n",
       "<table border=\"1\" class=\"dataframe\">\n",
       "  <thead>\n",
       "    <tr style=\"text-align: right;\">\n",
       "      <th></th>\n",
       "      <th>index</th>\n",
       "      <th>Strain</th>\n",
       "      <th>Type</th>\n",
       "      <th>Effects</th>\n",
       "      <th>Flavor</th>\n",
       "      <th>Description</th>\n",
       "      <th>name</th>\n",
       "      <th>ailment</th>\n",
       "      <th>all_text</th>\n",
       "      <th>lemmas</th>\n",
       "      <th>Cos Sim Strains</th>\n",
       "    </tr>\n",
       "  </thead>\n",
       "  <tbody>\n",
       "    <tr>\n",
       "      <th>1308</th>\n",
       "      <td>1308</td>\n",
       "      <td>Mammoth</td>\n",
       "      <td>hybrid</td>\n",
       "      <td>Happy,Relaxed,Focused,Uplifted,Creative</td>\n",
       "      <td>Honey,Earthy,Woody</td>\n",
       "      <td>This hybrid from The Bank Cannabis Genetics is...</td>\n",
       "      <td>NaN</td>\n",
       "      <td>NaN</td>\n",
       "      <td>Mammoth hybrid Happy,Relaxed,Focused,Uplifted,...</td>\n",
       "      <td>mammoth hybrid Happy Relaxed Focused Uplifted ...</td>\n",
       "      <td>(0, 2137, 670, 1384, 1837)</td>\n",
       "    </tr>\n",
       "    <tr>\n",
       "      <th>834</th>\n",
       "      <td>834</td>\n",
       "      <td>Garlic-Bud</td>\n",
       "      <td>indica</td>\n",
       "      <td>Relaxed,Happy,Creative,Uplifted,Tingly</td>\n",
       "      <td>Earthy,Woody,Pepper</td>\n",
       "      <td>Garlic Bud is a classic indica strain from the...</td>\n",
       "      <td>NaN</td>\n",
       "      <td>NaN</td>\n",
       "      <td>Garlic-Bud indica Relaxed,Happy,Creative,Uplif...</td>\n",
       "      <td>Garlic Bud indica Relaxed happy Creative Uplif...</td>\n",
       "      <td>(0, 2137, 670, 1384, 1837)</td>\n",
       "    </tr>\n",
       "    <tr>\n",
       "      <th>98</th>\n",
       "      <td>98</td>\n",
       "      <td>Alpine-Star</td>\n",
       "      <td>indica</td>\n",
       "      <td>Relaxed,Uplifted,Happy,Euphoric,Tingly</td>\n",
       "      <td>Pine,Citrus,Earthy</td>\n",
       "      <td>Alpine Star, often labeled as Alpine OG, is an...</td>\n",
       "      <td>NaN</td>\n",
       "      <td>NaN</td>\n",
       "      <td>Alpine-Star indica Relaxed,Uplifted,Happy,Euph...</td>\n",
       "      <td>Alpine Star indica Relaxed Uplifted happy Euph...</td>\n",
       "      <td>(0, 2137, 670, 1384, 1837)</td>\n",
       "    </tr>\n",
       "    <tr>\n",
       "      <th>1812</th>\n",
       "      <td>1812</td>\n",
       "      <td>Silver-Kush</td>\n",
       "      <td>sativa</td>\n",
       "      <td>Happy,Relaxed,Giggly,Uplifted,Focused</td>\n",
       "      <td>Earthy,Chemical,Citrus</td>\n",
       "      <td>Silver Kush is a sativa-dominant mix of Silver...</td>\n",
       "      <td>NaN</td>\n",
       "      <td>NaN</td>\n",
       "      <td>Silver-Kush sativa Happy,Relaxed,Giggly,Uplift...</td>\n",
       "      <td>silver Kush sativa Happy Relaxed giggly Uplift...</td>\n",
       "      <td>(0, 2137, 670, 1384, 1837)</td>\n",
       "    </tr>\n",
       "    <tr>\n",
       "      <th>744</th>\n",
       "      <td>744</td>\n",
       "      <td>Elephant</td>\n",
       "      <td>sativa</td>\n",
       "      <td>Sleepy,Happy,Euphoric,Focused,Aroused</td>\n",
       "      <td>Sweet,Earthy,Tropical</td>\n",
       "      <td>Elephant is an old school bud with a lineage l...</td>\n",
       "      <td>NaN</td>\n",
       "      <td>NaN</td>\n",
       "      <td>Elephant sativa Sleepy,Happy,Euphoric,Focused,...</td>\n",
       "      <td>Elephant sativa Sleepy happy Euphoric Focused ...</td>\n",
       "      <td>(0, 2137, 670, 1384, 1837)</td>\n",
       "    </tr>\n",
       "  </tbody>\n",
       "</table>\n",
       "</div>"
      ],
      "text/plain": [
       "      index       Strain    Type                                  Effects  \\\n",
       "1308   1308      Mammoth  hybrid  Happy,Relaxed,Focused,Uplifted,Creative   \n",
       "834     834   Garlic-Bud  indica   Relaxed,Happy,Creative,Uplifted,Tingly   \n",
       "98       98  Alpine-Star  indica   Relaxed,Uplifted,Happy,Euphoric,Tingly   \n",
       "1812   1812  Silver-Kush  sativa    Happy,Relaxed,Giggly,Uplifted,Focused   \n",
       "744     744     Elephant  sativa    Sleepy,Happy,Euphoric,Focused,Aroused   \n",
       "\n",
       "                      Flavor  \\\n",
       "1308      Honey,Earthy,Woody   \n",
       "834      Earthy,Woody,Pepper   \n",
       "98        Pine,Citrus,Earthy   \n",
       "1812  Earthy,Chemical,Citrus   \n",
       "744    Sweet,Earthy,Tropical   \n",
       "\n",
       "                                            Description name ailment  \\\n",
       "1308  This hybrid from The Bank Cannabis Genetics is...  NaN     NaN   \n",
       "834   Garlic Bud is a classic indica strain from the...  NaN     NaN   \n",
       "98    Alpine Star, often labeled as Alpine OG, is an...  NaN     NaN   \n",
       "1812  Silver Kush is a sativa-dominant mix of Silver...  NaN     NaN   \n",
       "744   Elephant is an old school bud with a lineage l...  NaN     NaN   \n",
       "\n",
       "                                               all_text  \\\n",
       "1308  Mammoth hybrid Happy,Relaxed,Focused,Uplifted,...   \n",
       "834   Garlic-Bud indica Relaxed,Happy,Creative,Uplif...   \n",
       "98    Alpine-Star indica Relaxed,Uplifted,Happy,Euph...   \n",
       "1812  Silver-Kush sativa Happy,Relaxed,Giggly,Uplift...   \n",
       "744   Elephant sativa Sleepy,Happy,Euphoric,Focused,...   \n",
       "\n",
       "                                                 lemmas  \\\n",
       "1308  mammoth hybrid Happy Relaxed Focused Uplifted ...   \n",
       "834   Garlic Bud indica Relaxed happy Creative Uplif...   \n",
       "98    Alpine Star indica Relaxed Uplifted happy Euph...   \n",
       "1812  silver Kush sativa Happy Relaxed giggly Uplift...   \n",
       "744   Elephant sativa Sleepy happy Euphoric Focused ...   \n",
       "\n",
       "                 Cos Sim Strains  \n",
       "1308  (0, 2137, 670, 1384, 1837)  \n",
       "834   (0, 2137, 670, 1384, 1837)  \n",
       "98    (0, 2137, 670, 1384, 1837)  \n",
       "1812  (0, 2137, 670, 1384, 1837)  \n",
       "744   (0, 2137, 670, 1384, 1837)  "
      ]
     },
     "execution_count": 192,
     "metadata": {},
     "output_type": "execute_result"
    }
   ],
   "source": [
    "df_strains.sample(5)"
   ]
  },
  {
   "cell_type": "markdown",
   "metadata": {},
   "source": [
    "## Creating Test DataBase in MongoDB"
   ]
  },
  {
   "cell_type": "code",
   "execution_count": null,
   "metadata": {},
   "outputs": [],
   "source": []
  },
  {
   "cell_type": "code",
   "execution_count": null,
   "metadata": {},
   "outputs": [],
   "source": []
  },
  {
   "cell_type": "code",
   "execution_count": null,
   "metadata": {},
   "outputs": [],
   "source": []
  },
  {
   "cell_type": "code",
   "execution_count": null,
   "metadata": {},
   "outputs": [],
   "source": []
  },
  {
   "cell_type": "code",
   "execution_count": null,
   "metadata": {},
   "outputs": [],
   "source": []
  },
  {
   "cell_type": "code",
   "execution_count": null,
   "metadata": {},
   "outputs": [],
   "source": []
  },
  {
   "cell_type": "code",
   "execution_count": null,
   "metadata": {},
   "outputs": [],
   "source": []
  },
  {
   "cell_type": "code",
   "execution_count": null,
   "metadata": {},
   "outputs": [],
   "source": []
  },
  {
   "cell_type": "markdown",
   "metadata": {},
   "source": [
    "## Testing User Input on Cosine Similarity Model"
   ]
  },
  {
   "cell_type": "code",
   "execution_count": 133,
   "metadata": {},
   "outputs": [
    {
     "name": "stdout",
     "output_type": "stream",
     "text": [
      "\u001b[38;5;2m✔ Download and installation successful\u001b[0m\n",
      "You can now load the model via spacy.load('en_core_web_sm')\n"
     ]
    }
   ],
   "source": [
    "import spacy.cli\n",
    "spacy.cli.download(\"en_core_web_sm\")"
   ]
  },
  {
   "cell_type": "code",
   "execution_count": 134,
   "metadata": {},
   "outputs": [],
   "source": [
    "import spacy\n",
    "nlp = spacy.load(\"en_core_web_sm\")"
   ]
  },
  {
   "cell_type": "code",
   "execution_count": 135,
   "metadata": {},
   "outputs": [],
   "source": [
    "# Function for Tokenizing User Input\n",
    "\n",
    "def tokenize(document):\n",
    "    doc = nlp(document)\n",
    "    return [token.lemma_.strip() for token in doc if (token.is_stop != True) and (token.is_punct != True)]"
   ]
  },
  {
   "cell_type": "code",
   "execution_count": 136,
   "metadata": {},
   "outputs": [],
   "source": [
    "user_input_raw = \"uplifting strain for depression\""
   ]
  },
  {
   "cell_type": "code",
   "execution_count": 137,
   "metadata": {},
   "outputs": [],
   "source": [
    "# Tokenizing User Input\n",
    "\n",
    "user_input = tokenize(user_input_raw)"
   ]
  },
  {
   "cell_type": "code",
   "execution_count": 138,
   "metadata": {},
   "outputs": [],
   "source": [
    "# Converting user input into vectors for DTM\n",
    "\n",
    "dtm_ui = tfidf.fit_transform(user_input)"
   ]
  },
  {
   "cell_type": "code",
   "execution_count": 141,
   "metadata": {},
   "outputs": [],
   "source": [
    "dtm_ui = pd.DataFrame(dtm_ui.todense(), columns=tfidf.get_feature_names())"
   ]
  },
  {
   "cell_type": "code",
   "execution_count": 142,
   "metadata": {},
   "outputs": [
    {
     "data": {
      "text/html": [
       "<div>\n",
       "<style scoped>\n",
       "    .dataframe tbody tr th:only-of-type {\n",
       "        vertical-align: middle;\n",
       "    }\n",
       "\n",
       "    .dataframe tbody tr th {\n",
       "        vertical-align: top;\n",
       "    }\n",
       "\n",
       "    .dataframe thead th {\n",
       "        text-align: right;\n",
       "    }\n",
       "</style>\n",
       "<table border=\"1\" class=\"dataframe\">\n",
       "  <thead>\n",
       "    <tr style=\"text-align: right;\">\n",
       "      <th></th>\n",
       "      <th>depression</th>\n",
       "      <th>strain</th>\n",
       "      <th>uplifting</th>\n",
       "    </tr>\n",
       "  </thead>\n",
       "  <tbody>\n",
       "    <tr>\n",
       "      <th>0</th>\n",
       "      <td>0.0</td>\n",
       "      <td>0.0</td>\n",
       "      <td>1.0</td>\n",
       "    </tr>\n",
       "    <tr>\n",
       "      <th>1</th>\n",
       "      <td>0.0</td>\n",
       "      <td>1.0</td>\n",
       "      <td>0.0</td>\n",
       "    </tr>\n",
       "    <tr>\n",
       "      <th>2</th>\n",
       "      <td>1.0</td>\n",
       "      <td>0.0</td>\n",
       "      <td>0.0</td>\n",
       "    </tr>\n",
       "  </tbody>\n",
       "</table>\n",
       "</div>"
      ],
      "text/plain": [
       "   depression  strain  uplifting\n",
       "0         0.0     0.0        1.0\n",
       "1         0.0     1.0        0.0\n",
       "2         1.0     0.0        0.0"
      ]
     },
     "execution_count": 142,
     "metadata": {},
     "output_type": "execute_result"
    }
   ],
   "source": [
    "dtm_ui"
   ]
  },
  {
   "cell_type": "code",
   "execution_count": 147,
   "metadata": {},
   "outputs": [
    {
     "ename": "SyntaxError",
     "evalue": "invalid syntax (<ipython-input-147-40cce11ae824>, line 1)",
     "output_type": "error",
     "traceback": [
      "\u001b[0;36m  File \u001b[0;32m\"<ipython-input-147-40cce11ae824>\"\u001b[0;36m, line \u001b[0;32m1\u001b[0m\n\u001b[0;31m    cosine_similarity()?\u001b[0m\n\u001b[0m                       ^\u001b[0m\n\u001b[0;31mSyntaxError\u001b[0m\u001b[0;31m:\u001b[0m invalid syntax\n"
     ]
    }
   ],
   "source": []
  },
  {
   "cell_type": "code",
   "execution_count": null,
   "metadata": {},
   "outputs": [],
   "source": []
  },
  {
   "cell_type": "code",
   "execution_count": null,
   "metadata": {},
   "outputs": [],
   "source": []
  },
  {
   "cell_type": "code",
   "execution_count": null,
   "metadata": {},
   "outputs": [],
   "source": []
  }
 ],
 "metadata": {
  "kernelspec": {
   "display_name": "U4-S1-NLP (Python3)",
   "language": "python",
   "name": "u4-s1-nlp"
  },
  "language_info": {
   "codemirror_mode": {
    "name": "ipython",
    "version": 3
   },
   "file_extension": ".py",
   "mimetype": "text/x-python",
   "name": "python",
   "nbconvert_exporter": "python",
   "pygments_lexer": "ipython3",
   "version": "3.7.0"
  }
 },
 "nbformat": 4,
 "nbformat_minor": 4
}
